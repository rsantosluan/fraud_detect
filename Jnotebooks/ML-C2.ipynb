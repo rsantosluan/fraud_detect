{
 "cells": [
  {
   "cell_type": "markdown",
   "metadata": {},
   "source": [
    "# 1- Imports"
   ]
  },
  {
   "cell_type": "code",
   "execution_count": 2,
   "metadata": {},
   "outputs": [],
   "source": [
    "## Essenciais\n",
    "import pandas as pd\n",
    "import numpy  as np\n",
    "\n",
    "### Save\n",
    "import pickle as pkl\n",
    "\n",
    "### Plot gráfico\n",
    "from matplotlib.gridspec import GridSpec\n",
    "import matplotlib.pyplot as plt\n",
    "import seaborn           as sns\n",
    "\n",
    "### Machine Learning\n",
    "# Métricas\n",
    "from sklearn.model_selection import train_test_split, cross_validate,cross_val_score, GridSearchCV, StratifiedKFold\n",
    "from sklearn.metrics         import f1_score, confusion_matrix, recall_score \n",
    "# Modelos\n",
    "from sklearn.ensemble        import RandomForestClassifier\n",
    "from xgboost                 import XGBClassifier\n",
    "from sklearn.linear_model    import RidgeClassifierCV, LogisticRegressionCV\n",
    "\n",
    "\n",
    "### Lib proprietária\n",
    "from RSLib.nuter import preparacao_dados as nt\n",
    "from RSLib.nuter import ML_process as mlp\n"
   ]
  },
  {
   "cell_type": "markdown",
   "metadata": {},
   "source": [
    "# Funções auxiliares | Configurações"
   ]
  },
  {
   "cell_type": "code",
   "execution_count": 77,
   "metadata": {},
   "outputs": [],
   "source": [
    "### Notações científicas\n",
    "pd.set_option('display.float_format', lambda x: '%.5f' % x)\n",
    "\n",
    "# Avisos\n",
    "import warnings\n",
    "warnings.simplefilter(\"ignore\")"
   ]
  },
  {
   "cell_type": "code",
   "execution_count": 27,
   "metadata": {},
   "outputs": [],
   "source": [
    "def conf_matrx( y_pred_rf, y_pred_xgb, y_pred_rc, y_pred_lr, yte  ):\n",
    "    # Configurações de tamanho de plot\n",
    "    sns.set( rc={'figure.figsize' : (20,8)} )\n",
    "\n",
    "    #divisão em specs(quadros dentro do mesmo conjunto de plot gráfico)\n",
    "    specs = GridSpec(2,2)\n",
    "\n",
    "    ###--- Random Forest ---###\n",
    "    plt.subplot(specs[0,0])\n",
    "    #Matriz de confusão\n",
    "    cf_matrix = confusion_matrix(yte, y_pred_rf)\n",
    "    sns.heatmap(cf_matrix, annot = True, fmt = '.1f' )\n",
    "    plt.title( 'Random Forest Classifier' )\n",
    "\n",
    "    ###--- Random Forest ---###\n",
    "    plt.subplot(specs[0,1])\n",
    "    #Matriz de confusão\n",
    "    cf_matrix = confusion_matrix(yte, y_pred_xgb)\n",
    "    sns.heatmap(cf_matrix, annot = True, fmt = '.1f' )\n",
    "    plt.title( 'XGBoost Classifier' )\n",
    "\n",
    "    ###--- Random Forest ---###\n",
    "    plt.subplot(specs[1,0])\n",
    "    #Matriz de confusão\n",
    "    cf_matrix = confusion_matrix(yte, y_pred_rc)\n",
    "    sns.heatmap(cf_matrix, annot = True, fmt = '.1f' )\n",
    "    plt.title( 'Ridge Classifier' )\n",
    "\n",
    "    ###--- Random Forest ---###\n",
    "    plt.subplot(specs[1,1])\n",
    "    #Matriz de confusão\n",
    "    cf_matrix = confusion_matrix(yte, y_pred_lr)\n",
    "    sns.heatmap(cf_matrix, annot = True, fmt = '.1f' )\n",
    "    plt.title( 'Logistic Regressor' )\n",
    "\n",
    "def cv_result(rfc, xgbc, rdgc, lrgc, xten, yte):\n",
    "    # predict\n",
    "    y_pred_rf  = rfc.predict( xten )\n",
    "    y_pred_xgb = xgbc.predict( xten )\n",
    "    y_pred_rc  = rdgc.predict( xten )\n",
    "    y_pred_lr  = lrgc.predict( xten )\n",
    "\n",
    "    # Confusion Matrix\n",
    "    conf_matrx( y_pred_rf, y_pred_xgb, y_pred_rc, y_pred_lr, yte )\n",
    "\n",
    "    # F1 Score data frame \n",
    "    result = pd.DataFrame({\n",
    "    'Random_Forest'           : recall_score( yte, y_pred_rf, average='binary' , pos_label = 1 ),\n",
    "    'XGBoost'                 : recall_score( yte, y_pred_xgb, average='binary', pos_label = 1 ),\n",
    "    'Ridge_Classifier'        : recall_score( yte, y_pred_rc, average='binary' , pos_label = 1 ),\n",
    "    'Logistic_Reg'            : recall_score( yte, y_pred_lr, average='binary' , pos_label = 1 )\n",
    "    \n",
    "    }, index = [0])\n",
    "\n",
    "    return result\n",
    "\n",
    "### -------------- Ajuste de hyper parâmetros -------------- ###\n",
    "def fine_T():   \n",
    "    ### Escolha dos parâmetros a serem testados\n",
    "    param = {\n",
    "        'n_estimators'      : [1000, 2000],\n",
    "        'max_depth'        : [1, 6, 50],\n",
    "        'learning_rate'    : [0.001, 0.6, 1],\n",
    "        'min_child_weight' : [1, 6, 20],\n",
    "        'subsample'        : [0.1, 0.6, 1],\n",
    "        'colsample_bytree' : [0.1, 0.6, 1]\n",
    "\n",
    "    }\n",
    "\n",
    "    ### Modelo\n",
    "    xgb = XGBClassifier()\n",
    "\n",
    "    ### GridSearch\n",
    "    gs_xgb = GridSearchCV(\n",
    "        estimator  = xgb,\n",
    "        param_grid = param,\n",
    "        cv         = StratifiedKFold( n_splits = 2), \n",
    "        scoring    = 'f1_weighted',\n",
    "        verbose    = 1\n",
    "\n",
    "    )\n",
    "    return gs_xgb\n",
    "\n",
    "### -------------- Teste de modelos de ML -------------- ###\n",
    "def teste_modelo( x, y, model, cv = 5):\n",
    "    scores = cross_val_score(\n",
    "        model, x, y, cv = cv, scoring = 'recall_weighted' \n",
    "    ) \n",
    "\n",
    "    ypred = model.predict( x )\n",
    "    cf_matrix = confusion_matrix(y, ypred)\n",
    "    \n",
    "    return scores, cf_matrix    "
   ]
  },
  {
   "cell_type": "markdown",
   "metadata": {},
   "source": [
    "# 2- Importação dos dados"
   ]
  },
  {
   "cell_type": "code",
   "execution_count": 19,
   "metadata": {},
   "outputs": [],
   "source": [
    "data_raw = pkl.load( open( '../data/pickle/clean_data.sav', 'rb' ) )"
   ]
  },
  {
   "cell_type": "code",
   "execution_count": 45,
   "metadata": {},
   "outputs": [],
   "source": [
    "### Separando DF em variáveis preditoras e variável resposta \n",
    "x = data_raw.drop( columns = 'isFraud' )\n",
    "y = data_raw.isFraud"
   ]
  },
  {
   "cell_type": "code",
   "execution_count": 48,
   "metadata": {},
   "outputs": [],
   "source": [
    "pkl.dump( x, open( '../data/pickle/x.sav', 'wb' ) )\n",
    "pkl.dump( y, open( '../data/pickle/y.sav', 'wb' ) )"
   ]
  },
  {
   "cell_type": "markdown",
   "metadata": {},
   "source": [
    "# 4- Separação dos dados em: Treino validação e teste"
   ]
  },
  {
   "cell_type": "code",
   "execution_count": 49,
   "metadata": {},
   "outputs": [],
   "source": [
    "### Separando conjuntos\n",
    "# Total em: Treino e validação\n",
    "xtr, xte_val, ytr, yte_val = train_test_split( x, y, train_size = 0.6, stratify = y  )\n",
    "# Validaçao em: Validação e teste   \n",
    "xte, xval, yte, yval = train_test_split( xte_val, yte_val, train_size = 0.8, stratify = yte_val )\n",
    "\n",
    "### Salvando treino, validação e teste\n",
    "pkl.dump( xtr, open( '../data/pickle/xtr.sav', 'wb' ) )\n",
    "pkl.dump( ytr, open( '../data/pickle/ytr.sav', 'wb' ) )\n",
    "pkl.dump( xte, open( '../data/pickle/xte.sav', 'wb' ) )\n",
    "pkl.dump( yte, open( '../data/pickle/yte.sav', 'wb' ) )\n",
    "pkl.dump( xval, open( '../data/pickle/xval.sav', 'wb' ) )\n",
    "pkl.dump( yval, open( '../data/pickle/yval.sav', 'wb' ) )"
   ]
  },
  {
   "cell_type": "markdown",
   "metadata": {},
   "source": [
    "# 3- Preparação dos dados ( Normalização ) "
   ]
  },
  {
   "cell_type": "code",
   "execution_count": 50,
   "metadata": {},
   "outputs": [],
   "source": [
    "### Normalização dos dados\n",
    "xtrn, rs, mms = nt.rescaling( xtr )\n",
    "xten, rs, mms = nt.rescaling( xte )\n",
    "\n",
    "### Salvando normalização e 'xtr e xte' normalizados\n",
    "pkl.dump( rs, open( '../data/models/rs.sav', 'wb' ) )\n",
    "pkl.dump( mms, open( '../data/models/mms.sav', 'wb' ) )\n",
    "pkl.dump( xtrn, open( '../data/pickle/xtrn.sav', 'wb' ) )\n",
    "pkl.dump( xten, open( '../data/pickle/xten.sav', 'wb' ) )"
   ]
  },
  {
   "cell_type": "markdown",
   "metadata": {},
   "source": [
    "# 4- Teste de modelos ( XGBoost selecionado )"
   ]
  },
  {
   "cell_type": "markdown",
   "metadata": {},
   "source": [
    "#### Random Forest"
   ]
  },
  {
   "cell_type": "code",
   "execution_count": 39,
   "metadata": {},
   "outputs": [
    {
     "data": {
      "text/html": [
       "<style>#sk-container-id-4 {color: black;background-color: white;}#sk-container-id-4 pre{padding: 0;}#sk-container-id-4 div.sk-toggleable {background-color: white;}#sk-container-id-4 label.sk-toggleable__label {cursor: pointer;display: block;width: 100%;margin-bottom: 0;padding: 0.3em;box-sizing: border-box;text-align: center;}#sk-container-id-4 label.sk-toggleable__label-arrow:before {content: \"▸\";float: left;margin-right: 0.25em;color: #696969;}#sk-container-id-4 label.sk-toggleable__label-arrow:hover:before {color: black;}#sk-container-id-4 div.sk-estimator:hover label.sk-toggleable__label-arrow:before {color: black;}#sk-container-id-4 div.sk-toggleable__content {max-height: 0;max-width: 0;overflow: hidden;text-align: left;background-color: #f0f8ff;}#sk-container-id-4 div.sk-toggleable__content pre {margin: 0.2em;color: black;border-radius: 0.25em;background-color: #f0f8ff;}#sk-container-id-4 input.sk-toggleable__control:checked~div.sk-toggleable__content {max-height: 200px;max-width: 100%;overflow: auto;}#sk-container-id-4 input.sk-toggleable__control:checked~label.sk-toggleable__label-arrow:before {content: \"▾\";}#sk-container-id-4 div.sk-estimator input.sk-toggleable__control:checked~label.sk-toggleable__label {background-color: #d4ebff;}#sk-container-id-4 div.sk-label input.sk-toggleable__control:checked~label.sk-toggleable__label {background-color: #d4ebff;}#sk-container-id-4 input.sk-hidden--visually {border: 0;clip: rect(1px 1px 1px 1px);clip: rect(1px, 1px, 1px, 1px);height: 1px;margin: -1px;overflow: hidden;padding: 0;position: absolute;width: 1px;}#sk-container-id-4 div.sk-estimator {font-family: monospace;background-color: #f0f8ff;border: 1px dotted black;border-radius: 0.25em;box-sizing: border-box;margin-bottom: 0.5em;}#sk-container-id-4 div.sk-estimator:hover {background-color: #d4ebff;}#sk-container-id-4 div.sk-parallel-item::after {content: \"\";width: 100%;border-bottom: 1px solid gray;flex-grow: 1;}#sk-container-id-4 div.sk-label:hover label.sk-toggleable__label {background-color: #d4ebff;}#sk-container-id-4 div.sk-serial::before {content: \"\";position: absolute;border-left: 1px solid gray;box-sizing: border-box;top: 0;bottom: 0;left: 50%;z-index: 0;}#sk-container-id-4 div.sk-serial {display: flex;flex-direction: column;align-items: center;background-color: white;padding-right: 0.2em;padding-left: 0.2em;position: relative;}#sk-container-id-4 div.sk-item {position: relative;z-index: 1;}#sk-container-id-4 div.sk-parallel {display: flex;align-items: stretch;justify-content: center;background-color: white;position: relative;}#sk-container-id-4 div.sk-item::before, #sk-container-id-4 div.sk-parallel-item::before {content: \"\";position: absolute;border-left: 1px solid gray;box-sizing: border-box;top: 0;bottom: 0;left: 50%;z-index: -1;}#sk-container-id-4 div.sk-parallel-item {display: flex;flex-direction: column;z-index: 1;position: relative;background-color: white;}#sk-container-id-4 div.sk-parallel-item:first-child::after {align-self: flex-end;width: 50%;}#sk-container-id-4 div.sk-parallel-item:last-child::after {align-self: flex-start;width: 50%;}#sk-container-id-4 div.sk-parallel-item:only-child::after {width: 0;}#sk-container-id-4 div.sk-dashed-wrapped {border: 1px dashed gray;margin: 0 0.4em 0.5em 0.4em;box-sizing: border-box;padding-bottom: 0.4em;background-color: white;}#sk-container-id-4 div.sk-label label {font-family: monospace;font-weight: bold;display: inline-block;line-height: 1.2em;}#sk-container-id-4 div.sk-label-container {text-align: center;}#sk-container-id-4 div.sk-container {/* jupyter's `normalize.less` sets `[hidden] { display: none; }` but bootstrap.min.css set `[hidden] { display: none !important; }` so we also need the `!important` here to be able to override the default hidden behavior on the sphinx rendered scikit-learn.org. See: https://github.com/scikit-learn/scikit-learn/issues/21755 */display: inline-block !important;position: relative;}#sk-container-id-4 div.sk-text-repr-fallback {display: none;}</style><div id=\"sk-container-id-4\" class=\"sk-top-container\"><div class=\"sk-text-repr-fallback\"><pre>RandomForestClassifier(n_jobs=-1)</pre><b>In a Jupyter environment, please rerun this cell to show the HTML representation or trust the notebook. <br />On GitHub, the HTML representation is unable to render, please try loading this page with nbviewer.org.</b></div><div class=\"sk-container\" hidden><div class=\"sk-item\"><div class=\"sk-estimator sk-toggleable\"><input class=\"sk-toggleable__control sk-hidden--visually\" id=\"sk-estimator-id-4\" type=\"checkbox\" checked><label for=\"sk-estimator-id-4\" class=\"sk-toggleable__label sk-toggleable__label-arrow\">RandomForestClassifier</label><div class=\"sk-toggleable__content\"><pre>RandomForestClassifier(n_jobs=-1)</pre></div></div></div></div></div>"
      ],
      "text/plain": [
       "RandomForestClassifier(n_jobs=-1)"
      ]
     },
     "execution_count": 39,
     "metadata": {},
     "output_type": "execute_result"
    }
   ],
   "source": [
    "### Definição e treino do modelo\n",
    "rfc = RandomForestClassifier( n_jobs = -1 )\n",
    "rfc.fit( xtrn, ytr )"
   ]
  },
  {
   "cell_type": "markdown",
   "metadata": {},
   "source": [
    "#### XGBoost"
   ]
  },
  {
   "cell_type": "code",
   "execution_count": 40,
   "metadata": {},
   "outputs": [
    {
     "data": {
      "text/plain": [
       "0.8664383561643836"
      ]
     },
     "execution_count": 40,
     "metadata": {},
     "output_type": "execute_result"
    }
   ],
   "source": [
    "xgbc = XGBClassifier( n_jobs = -1 )\n",
    "xgbc.fit( xtrn, ytr )\n",
    "\n",
    "### Recall Score do modelo\n",
    "y_predict = xgbc.predict( xten )\n",
    "recall_score( yte, y_predict, average = 'binary', pos_label = 1 )"
   ]
  },
  {
   "cell_type": "markdown",
   "metadata": {},
   "source": [
    "#### Ridge Classifier"
   ]
  },
  {
   "cell_type": "code",
   "execution_count": 41,
   "metadata": {},
   "outputs": [
    {
     "data": {
      "text/html": [
       "<style>#sk-container-id-5 {color: black;background-color: white;}#sk-container-id-5 pre{padding: 0;}#sk-container-id-5 div.sk-toggleable {background-color: white;}#sk-container-id-5 label.sk-toggleable__label {cursor: pointer;display: block;width: 100%;margin-bottom: 0;padding: 0.3em;box-sizing: border-box;text-align: center;}#sk-container-id-5 label.sk-toggleable__label-arrow:before {content: \"▸\";float: left;margin-right: 0.25em;color: #696969;}#sk-container-id-5 label.sk-toggleable__label-arrow:hover:before {color: black;}#sk-container-id-5 div.sk-estimator:hover label.sk-toggleable__label-arrow:before {color: black;}#sk-container-id-5 div.sk-toggleable__content {max-height: 0;max-width: 0;overflow: hidden;text-align: left;background-color: #f0f8ff;}#sk-container-id-5 div.sk-toggleable__content pre {margin: 0.2em;color: black;border-radius: 0.25em;background-color: #f0f8ff;}#sk-container-id-5 input.sk-toggleable__control:checked~div.sk-toggleable__content {max-height: 200px;max-width: 100%;overflow: auto;}#sk-container-id-5 input.sk-toggleable__control:checked~label.sk-toggleable__label-arrow:before {content: \"▾\";}#sk-container-id-5 div.sk-estimator input.sk-toggleable__control:checked~label.sk-toggleable__label {background-color: #d4ebff;}#sk-container-id-5 div.sk-label input.sk-toggleable__control:checked~label.sk-toggleable__label {background-color: #d4ebff;}#sk-container-id-5 input.sk-hidden--visually {border: 0;clip: rect(1px 1px 1px 1px);clip: rect(1px, 1px, 1px, 1px);height: 1px;margin: -1px;overflow: hidden;padding: 0;position: absolute;width: 1px;}#sk-container-id-5 div.sk-estimator {font-family: monospace;background-color: #f0f8ff;border: 1px dotted black;border-radius: 0.25em;box-sizing: border-box;margin-bottom: 0.5em;}#sk-container-id-5 div.sk-estimator:hover {background-color: #d4ebff;}#sk-container-id-5 div.sk-parallel-item::after {content: \"\";width: 100%;border-bottom: 1px solid gray;flex-grow: 1;}#sk-container-id-5 div.sk-label:hover label.sk-toggleable__label {background-color: #d4ebff;}#sk-container-id-5 div.sk-serial::before {content: \"\";position: absolute;border-left: 1px solid gray;box-sizing: border-box;top: 0;bottom: 0;left: 50%;z-index: 0;}#sk-container-id-5 div.sk-serial {display: flex;flex-direction: column;align-items: center;background-color: white;padding-right: 0.2em;padding-left: 0.2em;position: relative;}#sk-container-id-5 div.sk-item {position: relative;z-index: 1;}#sk-container-id-5 div.sk-parallel {display: flex;align-items: stretch;justify-content: center;background-color: white;position: relative;}#sk-container-id-5 div.sk-item::before, #sk-container-id-5 div.sk-parallel-item::before {content: \"\";position: absolute;border-left: 1px solid gray;box-sizing: border-box;top: 0;bottom: 0;left: 50%;z-index: -1;}#sk-container-id-5 div.sk-parallel-item {display: flex;flex-direction: column;z-index: 1;position: relative;background-color: white;}#sk-container-id-5 div.sk-parallel-item:first-child::after {align-self: flex-end;width: 50%;}#sk-container-id-5 div.sk-parallel-item:last-child::after {align-self: flex-start;width: 50%;}#sk-container-id-5 div.sk-parallel-item:only-child::after {width: 0;}#sk-container-id-5 div.sk-dashed-wrapped {border: 1px dashed gray;margin: 0 0.4em 0.5em 0.4em;box-sizing: border-box;padding-bottom: 0.4em;background-color: white;}#sk-container-id-5 div.sk-label label {font-family: monospace;font-weight: bold;display: inline-block;line-height: 1.2em;}#sk-container-id-5 div.sk-label-container {text-align: center;}#sk-container-id-5 div.sk-container {/* jupyter's `normalize.less` sets `[hidden] { display: none; }` but bootstrap.min.css set `[hidden] { display: none !important; }` so we also need the `!important` here to be able to override the default hidden behavior on the sphinx rendered scikit-learn.org. See: https://github.com/scikit-learn/scikit-learn/issues/21755 */display: inline-block !important;position: relative;}#sk-container-id-5 div.sk-text-repr-fallback {display: none;}</style><div id=\"sk-container-id-5\" class=\"sk-top-container\"><div class=\"sk-text-repr-fallback\"><pre>RidgeClassifierCV()</pre><b>In a Jupyter environment, please rerun this cell to show the HTML representation or trust the notebook. <br />On GitHub, the HTML representation is unable to render, please try loading this page with nbviewer.org.</b></div><div class=\"sk-container\" hidden><div class=\"sk-item\"><div class=\"sk-estimator sk-toggleable\"><input class=\"sk-toggleable__control sk-hidden--visually\" id=\"sk-estimator-id-5\" type=\"checkbox\" checked><label for=\"sk-estimator-id-5\" class=\"sk-toggleable__label sk-toggleable__label-arrow\">RidgeClassifierCV</label><div class=\"sk-toggleable__content\"><pre>RidgeClassifierCV()</pre></div></div></div></div></div>"
      ],
      "text/plain": [
       "RidgeClassifierCV()"
      ]
     },
     "execution_count": 41,
     "metadata": {},
     "output_type": "execute_result"
    }
   ],
   "source": [
    "rdgc = RidgeClassifierCV()\n",
    "rdgc.fit( xtrn, ytr )"
   ]
  },
  {
   "cell_type": "markdown",
   "metadata": {},
   "source": [
    "#### Logistic Reg Classifier"
   ]
  },
  {
   "cell_type": "code",
   "execution_count": 42,
   "metadata": {},
   "outputs": [
    {
     "data": {
      "text/html": [
       "<style>#sk-container-id-6 {color: black;background-color: white;}#sk-container-id-6 pre{padding: 0;}#sk-container-id-6 div.sk-toggleable {background-color: white;}#sk-container-id-6 label.sk-toggleable__label {cursor: pointer;display: block;width: 100%;margin-bottom: 0;padding: 0.3em;box-sizing: border-box;text-align: center;}#sk-container-id-6 label.sk-toggleable__label-arrow:before {content: \"▸\";float: left;margin-right: 0.25em;color: #696969;}#sk-container-id-6 label.sk-toggleable__label-arrow:hover:before {color: black;}#sk-container-id-6 div.sk-estimator:hover label.sk-toggleable__label-arrow:before {color: black;}#sk-container-id-6 div.sk-toggleable__content {max-height: 0;max-width: 0;overflow: hidden;text-align: left;background-color: #f0f8ff;}#sk-container-id-6 div.sk-toggleable__content pre {margin: 0.2em;color: black;border-radius: 0.25em;background-color: #f0f8ff;}#sk-container-id-6 input.sk-toggleable__control:checked~div.sk-toggleable__content {max-height: 200px;max-width: 100%;overflow: auto;}#sk-container-id-6 input.sk-toggleable__control:checked~label.sk-toggleable__label-arrow:before {content: \"▾\";}#sk-container-id-6 div.sk-estimator input.sk-toggleable__control:checked~label.sk-toggleable__label {background-color: #d4ebff;}#sk-container-id-6 div.sk-label input.sk-toggleable__control:checked~label.sk-toggleable__label {background-color: #d4ebff;}#sk-container-id-6 input.sk-hidden--visually {border: 0;clip: rect(1px 1px 1px 1px);clip: rect(1px, 1px, 1px, 1px);height: 1px;margin: -1px;overflow: hidden;padding: 0;position: absolute;width: 1px;}#sk-container-id-6 div.sk-estimator {font-family: monospace;background-color: #f0f8ff;border: 1px dotted black;border-radius: 0.25em;box-sizing: border-box;margin-bottom: 0.5em;}#sk-container-id-6 div.sk-estimator:hover {background-color: #d4ebff;}#sk-container-id-6 div.sk-parallel-item::after {content: \"\";width: 100%;border-bottom: 1px solid gray;flex-grow: 1;}#sk-container-id-6 div.sk-label:hover label.sk-toggleable__label {background-color: #d4ebff;}#sk-container-id-6 div.sk-serial::before {content: \"\";position: absolute;border-left: 1px solid gray;box-sizing: border-box;top: 0;bottom: 0;left: 50%;z-index: 0;}#sk-container-id-6 div.sk-serial {display: flex;flex-direction: column;align-items: center;background-color: white;padding-right: 0.2em;padding-left: 0.2em;position: relative;}#sk-container-id-6 div.sk-item {position: relative;z-index: 1;}#sk-container-id-6 div.sk-parallel {display: flex;align-items: stretch;justify-content: center;background-color: white;position: relative;}#sk-container-id-6 div.sk-item::before, #sk-container-id-6 div.sk-parallel-item::before {content: \"\";position: absolute;border-left: 1px solid gray;box-sizing: border-box;top: 0;bottom: 0;left: 50%;z-index: -1;}#sk-container-id-6 div.sk-parallel-item {display: flex;flex-direction: column;z-index: 1;position: relative;background-color: white;}#sk-container-id-6 div.sk-parallel-item:first-child::after {align-self: flex-end;width: 50%;}#sk-container-id-6 div.sk-parallel-item:last-child::after {align-self: flex-start;width: 50%;}#sk-container-id-6 div.sk-parallel-item:only-child::after {width: 0;}#sk-container-id-6 div.sk-dashed-wrapped {border: 1px dashed gray;margin: 0 0.4em 0.5em 0.4em;box-sizing: border-box;padding-bottom: 0.4em;background-color: white;}#sk-container-id-6 div.sk-label label {font-family: monospace;font-weight: bold;display: inline-block;line-height: 1.2em;}#sk-container-id-6 div.sk-label-container {text-align: center;}#sk-container-id-6 div.sk-container {/* jupyter's `normalize.less` sets `[hidden] { display: none; }` but bootstrap.min.css set `[hidden] { display: none !important; }` so we also need the `!important` here to be able to override the default hidden behavior on the sphinx rendered scikit-learn.org. See: https://github.com/scikit-learn/scikit-learn/issues/21755 */display: inline-block !important;position: relative;}#sk-container-id-6 div.sk-text-repr-fallback {display: none;}</style><div id=\"sk-container-id-6\" class=\"sk-top-container\"><div class=\"sk-text-repr-fallback\"><pre>LogisticRegressionCV()</pre><b>In a Jupyter environment, please rerun this cell to show the HTML representation or trust the notebook. <br />On GitHub, the HTML representation is unable to render, please try loading this page with nbviewer.org.</b></div><div class=\"sk-container\" hidden><div class=\"sk-item\"><div class=\"sk-estimator sk-toggleable\"><input class=\"sk-toggleable__control sk-hidden--visually\" id=\"sk-estimator-id-6\" type=\"checkbox\" checked><label for=\"sk-estimator-id-6\" class=\"sk-toggleable__label sk-toggleable__label-arrow\">LogisticRegressionCV</label><div class=\"sk-toggleable__content\"><pre>LogisticRegressionCV()</pre></div></div></div></div></div>"
      ],
      "text/plain": [
       "LogisticRegressionCV()"
      ]
     },
     "execution_count": 42,
     "metadata": {},
     "output_type": "execute_result"
    }
   ],
   "source": [
    "lrgc = LogisticRegressionCV()\n",
    "lrgc.fit( xtrn, ytr )"
   ]
  },
  {
   "cell_type": "markdown",
   "metadata": {},
   "source": [
    "#### Save dos modelos"
   ]
  },
  {
   "cell_type": "code",
   "execution_count": 43,
   "metadata": {},
   "outputs": [],
   "source": [
    "pkl.dump( rfc, open( '../data/models/rando_forest.sav', 'wb' ) )\n",
    "pkl.dump( xgbc, open( '../data/models/xgboost.sav', 'wb' ) )\n",
    "pkl.dump( rfc, open( '../data/models/ridge_classif.sav', 'wb' ) )\n",
    "pkl.dump( lrgc, open( '../data/models/logistic_reg.sav', 'wb' ) )\n"
   ]
  },
  {
   "cell_type": "code",
   "execution_count": null,
   "metadata": {},
   "outputs": [],
   "source": [
    "rfc  = pkl.load( open( '../data/models/rando_forest.sav', 'rb' ) )\n",
    "xgbc = pkl.load( open( '../data/models/xgboost.sav', 'rb' ) )\n",
    "rfc  = pkl.load( open( '../data/models/ridge_classif.sav', 'rb' ) )\n",
    "lrgc = pkl.load( open( '../data/models/logistic_reg.sav', 'rb' ) )\n"
   ]
  },
  {
   "cell_type": "markdown",
   "metadata": {},
   "source": [
    "#### Resultados"
   ]
  },
  {
   "cell_type": "code",
   "execution_count": 44,
   "metadata": {},
   "outputs": [
    {
     "data": {
      "image/png": "[encoded data removed]",
      "text/plain": [
       "<Figure size 1440x576 with 8 Axes>"
      ]
     },
     "metadata": {},
     "output_type": "display_data"
    }
   ],
   "source": [
    "result = cv_result(rfc, xgbc, lrgc, lrgc, xten, yte)"
   ]
  },
  {
   "cell_type": "code",
   "execution_count": null,
   "metadata": {},
   "outputs": [],
   "source": [
    "result = cv_result(rfc, xgbc, rdgc, lrgc, xten, yte)\n",
    "pkl.dump( result, open( '../data/pickle/result_models.sav', 'wb' ) )\n"
   ]
  },
  {
   "cell_type": "markdown",
   "metadata": {},
   "source": [
    "    Frente a demora no treino e os resultados ruins, serão descartados Ridge Classifier e Logistic Regression\n",
    "    Pela maior pontuação frente a análise da matriz de confusão, será utilizado o XGBoost."
   ]
  },
  {
   "cell_type": "markdown",
   "metadata": {},
   "source": [
    "# 5- Fine Tuning"
   ]
  },
  {
   "cell_type": "code",
   "execution_count": 4,
   "metadata": {},
   "outputs": [],
   "source": [
    "### Escolha dos parâmetros a serem testados\n",
    "param = {\n",
    "    'n_estimators'      : [1000, 2000],\n",
    "    'max_depth'        : [1, 6, 50],\n",
    "    'learning_rate'    : [0.001, 0.6, 1],\n",
    "    'min_child_weight' : [1, 6, 20],\n",
    "    'subsample'        : [0.1, 0.6, 1],\n",
    "    'colsample_bytree' : [0.1, 0.6, 1]\n",
    "\n",
    "}\n",
    "\n",
    "### Modelo\n",
    "xgb = XGBClassifier()\n",
    "\n",
    "### GridSearch\n",
    "gs_xgb = GridSearchCV(\n",
    "    estimator  = xgb,\n",
    "    param_grid = param,\n",
    "    cv         = StratifiedKFold( n_splits = 2), \n",
    "    scoring    = 'f1_weighted',\n",
    "    verbose    = 1\n",
    "\n",
    ")"
   ]
  },
  {
   "cell_type": "code",
   "execution_count": 14,
   "metadata": {},
   "outputs": [],
   "source": [
    "### Separando uma pequena amostra estratificada para não usar o GridSearch em uma amostra grande \n",
    "xfit, nan, y_fit, nan = train_test_split( xtrn, ytr, train_size = 0.01, stratify = ytr  )\n",
    "\n",
    "### Setando parâmetros e treinando modelo\n",
    "gs_xgb = fine_T()\n",
    "gs_xgb.fit( xfit, y_fit );"
   ]
  },
  {
   "cell_type": "code",
   "execution_count": 10,
   "metadata": {},
   "outputs": [],
   "source": [
    "### Salvando melhores parâmetros \n",
    "best_params = gs_xgb.best_params_\n",
    "\n",
    "#Fazendo bkp do modelo treinado e dos melhores parâmetros\n",
    "pkl.dump( best_params, open( '../data/models/best_params.sav', 'wb' ) )\n",
    "pkl.dump( gs_xgb, open( '../data/models/xgb_fineT.sav', 'wb' ) )\n"
   ]
  },
  {
   "cell_type": "markdown",
   "metadata": {},
   "source": [
    "# CheckPoint"
   ]
  },
  {
   "cell_type": "code",
   "execution_count": 9,
   "metadata": {},
   "outputs": [],
   "source": [
    "### Carga dos dados\n",
    "xtr = pkl.load( open( '../data/pickle/xtr.sav', 'rb' ) )\n",
    "xte = pkl.load( open( '../data/pickle/xte.sav', 'rb' ) )\n",
    "\n",
    "ytr = pkl.load( open( '../data/pickle/ytr.sav', 'rb' ) )\n",
    "yte = pkl.load( open( '../data/pickle/yte.sav', 'rb' ) )\n",
    "\n",
    "### Normalização\n",
    "xtrn, rs, mms = nt.rescaling( xtr )\n",
    "xten, rs, mms = nt.rescaling( xte )\n",
    "\n",
    "### Melhores Parâmetros\n",
    "best_params = pkl.load( open( '../data/models/best_params.sav', 'rb' ) )\n",
    "params      = pkl.load( open( '../data/models/params.sav', 'rb' ) )\n",
    "\n",
    "x_val = pkl.load( open( '../data/pickle/xval.sav', 'rb' ) )\n",
    "y_val = pkl.load( open( '../data/pickle/yval.sav', 'rb' ) )"
   ]
  },
  {
   "cell_type": "markdown",
   "metadata": {},
   "source": [
    "# 6- Feature Selection"
   ]
  },
  {
   "cell_type": "markdown",
   "metadata": {},
   "source": [
    "    Com base na análise gráfica da importância das features, serão selecionadas as 6 primeiras features para treinar o modelo"
   ]
  },
  {
   "cell_type": "code",
   "execution_count": 14,
   "metadata": {},
   "outputs": [
    {
     "data": {
      "image/png": "[encoded data removed]",
      "text/plain": [
       "<Figure size 2160x720 with 1 Axes>"
      ]
     },
     "metadata": {},
     "output_type": "display_data"
    }
   ],
   "source": [
    "### Chamando função para criar DF com o nome e a importância das features\n",
    "df_importance = mlp.feature_importance( xtrn, ytr )\n",
    "\n",
    "### Plotagem do gráfico com informações referentes a importância das features\n",
    "sns.set( rc={'figure.figsize' : (30,10)} )\n",
    "sns.barplot(\n",
    "    data    = df_importance, \n",
    "    x       = 'Importance', \n",
    "    y       = 'Feature',\n",
    "    palette = 'tab20b'\n",
    ");"
   ]
  },
  {
   "cell_type": "code",
   "execution_count": 15,
   "metadata": {},
   "outputs": [],
   "source": [
    "### Criando variável a ser usada para selecionar as colunas que alimentarão o modelo\n",
    "cols_selected = list( df_importance['Feature'].head(8) )\n",
    "pkl.dump( cols_selected, open( '../data/pickle/cols_selected.sav', 'wb' ) )"
   ]
  },
  {
   "cell_type": "markdown",
   "metadata": {},
   "source": [
    "# Feature engineering"
   ]
  },
  {
   "cell_type": "code",
   "execution_count": 73,
   "metadata": {},
   "outputs": [
    {
     "data": {
      "text/html": [
       "<div>\n",
       "<style scoped>\n",
       "    .dataframe tbody tr th:only-of-type {\n",
       "        vertical-align: middle;\n",
       "    }\n",
       "\n",
       "    .dataframe tbody tr th {\n",
       "        vertical-align: top;\n",
       "    }\n",
       "\n",
       "    .dataframe thead th {\n",
       "        text-align: right;\n",
       "    }\n",
       "</style>\n",
       "<table border=\"1\" class=\"dataframe\">\n",
       "  <thead>\n",
       "    <tr style=\"text-align: right;\">\n",
       "      <th></th>\n",
       "      <th>step</th>\n",
       "      <th>type</th>\n",
       "      <th>amount</th>\n",
       "      <th>nameOrig</th>\n",
       "      <th>oldbalanceOrg</th>\n",
       "      <th>newbalanceOrig</th>\n",
       "      <th>nameDest</th>\n",
       "      <th>oldbalanceDest</th>\n",
       "      <th>newbalanceDest</th>\n",
       "      <th>isFlaggedFraud</th>\n",
       "      <th>dif_balance_origin</th>\n",
       "      <th>dif_balance_dest</th>\n",
       "    </tr>\n",
       "  </thead>\n",
       "  <tbody>\n",
       "    <tr>\n",
       "      <th>3743380</th>\n",
       "      <td>279</td>\n",
       "      <td>CASH_OUT</td>\n",
       "      <td>247814.71</td>\n",
       "      <td>C1318365911</td>\n",
       "      <td>0.0</td>\n",
       "      <td>0.0</td>\n",
       "      <td>C685793696</td>\n",
       "      <td>1030279.58</td>\n",
       "      <td>1278094.29</td>\n",
       "      <td>0</td>\n",
       "      <td>-247814.71</td>\n",
       "      <td>0.000000e+00</td>\n",
       "    </tr>\n",
       "    <tr>\n",
       "      <th>725003</th>\n",
       "      <td>37</td>\n",
       "      <td>TRANSFER</td>\n",
       "      <td>91418.14</td>\n",
       "      <td>C736579961</td>\n",
       "      <td>0.0</td>\n",
       "      <td>0.0</td>\n",
       "      <td>C488624810</td>\n",
       "      <td>6561197.82</td>\n",
       "      <td>6411540.40</td>\n",
       "      <td>0</td>\n",
       "      <td>-91418.14</td>\n",
       "      <td>2.410756e+05</td>\n",
       "    </tr>\n",
       "    <tr>\n",
       "      <th>1946613</th>\n",
       "      <td>177</td>\n",
       "      <td>CASH_OUT</td>\n",
       "      <td>211820.22</td>\n",
       "      <td>C1895703230</td>\n",
       "      <td>0.0</td>\n",
       "      <td>0.0</td>\n",
       "      <td>C254669696</td>\n",
       "      <td>13382857.25</td>\n",
       "      <td>13561644.08</td>\n",
       "      <td>0</td>\n",
       "      <td>-211820.22</td>\n",
       "      <td>3.303339e+04</td>\n",
       "    </tr>\n",
       "    <tr>\n",
       "      <th>2412636</th>\n",
       "      <td>202</td>\n",
       "      <td>CASH_OUT</td>\n",
       "      <td>55363.94</td>\n",
       "      <td>C929276280</td>\n",
       "      <td>19777.0</td>\n",
       "      <td>0.0</td>\n",
       "      <td>C1938019772</td>\n",
       "      <td>0.00</td>\n",
       "      <td>55363.94</td>\n",
       "      <td>0</td>\n",
       "      <td>-35586.94</td>\n",
       "      <td>0.000000e+00</td>\n",
       "    </tr>\n",
       "    <tr>\n",
       "      <th>1753348</th>\n",
       "      <td>161</td>\n",
       "      <td>CASH_OUT</td>\n",
       "      <td>114065.57</td>\n",
       "      <td>C639634696</td>\n",
       "      <td>21202.0</td>\n",
       "      <td>0.0</td>\n",
       "      <td>C1630665820</td>\n",
       "      <td>578846.18</td>\n",
       "      <td>692911.76</td>\n",
       "      <td>0</td>\n",
       "      <td>-92863.57</td>\n",
       "      <td>-1.000000e-02</td>\n",
       "    </tr>\n",
       "    <tr>\n",
       "      <th>...</th>\n",
       "      <td>...</td>\n",
       "      <td>...</td>\n",
       "      <td>...</td>\n",
       "      <td>...</td>\n",
       "      <td>...</td>\n",
       "      <td>...</td>\n",
       "      <td>...</td>\n",
       "      <td>...</td>\n",
       "      <td>...</td>\n",
       "      <td>...</td>\n",
       "      <td>...</td>\n",
       "      <td>...</td>\n",
       "    </tr>\n",
       "    <tr>\n",
       "      <th>1769926</th>\n",
       "      <td>162</td>\n",
       "      <td>CASH_OUT</td>\n",
       "      <td>214314.26</td>\n",
       "      <td>C1799013803</td>\n",
       "      <td>0.0</td>\n",
       "      <td>0.0</td>\n",
       "      <td>C1973731484</td>\n",
       "      <td>939396.12</td>\n",
       "      <td>1153710.38</td>\n",
       "      <td>0</td>\n",
       "      <td>-214314.26</td>\n",
       "      <td>0.000000e+00</td>\n",
       "    </tr>\n",
       "    <tr>\n",
       "      <th>1463221</th>\n",
       "      <td>140</td>\n",
       "      <td>CASH_OUT</td>\n",
       "      <td>35603.79</td>\n",
       "      <td>C739380886</td>\n",
       "      <td>0.0</td>\n",
       "      <td>0.0</td>\n",
       "      <td>C1032837215</td>\n",
       "      <td>290597.49</td>\n",
       "      <td>326201.27</td>\n",
       "      <td>0</td>\n",
       "      <td>-35603.79</td>\n",
       "      <td>1.000000e-02</td>\n",
       "    </tr>\n",
       "    <tr>\n",
       "      <th>995454</th>\n",
       "      <td>45</td>\n",
       "      <td>CASH_OUT</td>\n",
       "      <td>258795.80</td>\n",
       "      <td>C787213885</td>\n",
       "      <td>0.0</td>\n",
       "      <td>0.0</td>\n",
       "      <td>C466754972</td>\n",
       "      <td>2195210.05</td>\n",
       "      <td>2454005.85</td>\n",
       "      <td>0</td>\n",
       "      <td>-258795.80</td>\n",
       "      <td>-4.656613e-10</td>\n",
       "    </tr>\n",
       "    <tr>\n",
       "      <th>5000079</th>\n",
       "      <td>353</td>\n",
       "      <td>CASH_OUT</td>\n",
       "      <td>284153.29</td>\n",
       "      <td>C493822932</td>\n",
       "      <td>0.0</td>\n",
       "      <td>0.0</td>\n",
       "      <td>C338873188</td>\n",
       "      <td>632524.19</td>\n",
       "      <td>916677.47</td>\n",
       "      <td>0</td>\n",
       "      <td>-284153.29</td>\n",
       "      <td>1.000000e-02</td>\n",
       "    </tr>\n",
       "    <tr>\n",
       "      <th>4074899</th>\n",
       "      <td>301</td>\n",
       "      <td>CASH_OUT</td>\n",
       "      <td>144941.09</td>\n",
       "      <td>C394776446</td>\n",
       "      <td>82042.0</td>\n",
       "      <td>0.0</td>\n",
       "      <td>C1342634456</td>\n",
       "      <td>244676.23</td>\n",
       "      <td>389617.32</td>\n",
       "      <td>0</td>\n",
       "      <td>-62899.09</td>\n",
       "      <td>0.000000e+00</td>\n",
       "    </tr>\n",
       "  </tbody>\n",
       "</table>\n",
       "<p>1662245 rows × 12 columns</p>\n",
       "</div>"
      ],
      "text/plain": [
       "         step      type     amount     nameOrig  oldbalanceOrg  \\\n",
       "3743380   279  CASH_OUT  247814.71  C1318365911            0.0   \n",
       "725003     37  TRANSFER   91418.14   C736579961            0.0   \n",
       "1946613   177  CASH_OUT  211820.22  C1895703230            0.0   \n",
       "2412636   202  CASH_OUT   55363.94   C929276280        19777.0   \n",
       "1753348   161  CASH_OUT  114065.57   C639634696        21202.0   \n",
       "...       ...       ...        ...          ...            ...   \n",
       "1769926   162  CASH_OUT  214314.26  C1799013803            0.0   \n",
       "1463221   140  CASH_OUT   35603.79   C739380886            0.0   \n",
       "995454     45  CASH_OUT  258795.80   C787213885            0.0   \n",
       "5000079   353  CASH_OUT  284153.29   C493822932            0.0   \n",
       "4074899   301  CASH_OUT  144941.09   C394776446        82042.0   \n",
       "\n",
       "         newbalanceOrig     nameDest  oldbalanceDest  newbalanceDest  \\\n",
       "3743380             0.0   C685793696      1030279.58      1278094.29   \n",
       "725003              0.0   C488624810      6561197.82      6411540.40   \n",
       "1946613             0.0   C254669696     13382857.25     13561644.08   \n",
       "2412636             0.0  C1938019772            0.00        55363.94   \n",
       "1753348             0.0  C1630665820       578846.18       692911.76   \n",
       "...                 ...          ...             ...             ...   \n",
       "1769926             0.0  C1973731484       939396.12      1153710.38   \n",
       "1463221             0.0  C1032837215       290597.49       326201.27   \n",
       "995454              0.0   C466754972      2195210.05      2454005.85   \n",
       "5000079             0.0   C338873188       632524.19       916677.47   \n",
       "4074899             0.0  C1342634456       244676.23       389617.32   \n",
       "\n",
       "         isFlaggedFraud  dif_balance_origin  dif_balance_dest  \n",
       "3743380               0          -247814.71      0.000000e+00  \n",
       "725003                0           -91418.14      2.410756e+05  \n",
       "1946613               0          -211820.22      3.303339e+04  \n",
       "2412636               0           -35586.94      0.000000e+00  \n",
       "1753348               0           -92863.57     -1.000000e-02  \n",
       "...                 ...                 ...               ...  \n",
       "1769926               0          -214314.26      0.000000e+00  \n",
       "1463221               0           -35603.79      1.000000e-02  \n",
       "995454                0          -258795.80     -4.656613e-10  \n",
       "5000079               0          -284153.29      1.000000e-02  \n",
       "4074899               0           -62899.09      0.000000e+00  \n",
       "\n",
       "[1662245 rows x 12 columns]"
      ]
     },
     "execution_count": 73,
     "metadata": {},
     "output_type": "execute_result"
    }
   ],
   "source": [
    "xtr"
   ]
  },
  {
   "cell_type": "code",
   "execution_count": 69,
   "metadata": {},
   "outputs": [],
   "source": [
    "### Criando Features\n",
    "xtrn_fs = nt.feature_eng( xtr )\n",
    "xten_fs = nt.feature_eng( xte )\n",
    "\n",
    "#Normalizando conjunto de dados\n",
    "xtrn_fs, r, m = nt.rescaling( rs = rs, mms = mms, data_raw = xtrn_fs  )\n",
    "xten_fs, r, m = nt.rescaling( rs = rs, mms = mms, data_raw = xten_fs )"
   ]
  },
  {
   "cell_type": "code",
   "execution_count": 70,
   "metadata": {},
   "outputs": [],
   "source": [
    "### Predições sem feature selection\n",
    "xgbc.fit(xtrn, ytr)\n",
    "y_pred = xgbc.predict( xten )\n",
    "\n",
    "### Predições com feature selection\n",
    "xgbc.fit(xtrn_fs, ytr)\n",
    "y_pred_fs = xgbc.predict( xten_fs )"
   ]
  },
  {
   "cell_type": "code",
   "execution_count": 71,
   "metadata": {},
   "outputs": [
    {
     "data": {
      "image/png": "[encoded data removed]",
      "text/plain": [
       "<Figure size 1440x576 with 4 Axes>"
      ]
     },
     "metadata": {},
     "output_type": "display_data"
    }
   ],
   "source": [
    "### Criando matrizes de confusão\n",
    "cf_matrix = confusion_matrix(yte, y_pred)\n",
    "cf_matrix_fs = confusion_matrix(yte, y_pred_fs)\n",
    "\n",
    "specs = GridSpec(1,2)\n",
    "### Plot Matriz sem Feature Selection\n",
    "plt.subplot(specs[0,0])\n",
    "sns.heatmap(cf_matrix, annot = True, fmt = '.1f' )\n",
    "\n",
    "### Plot Matriz com Feature Selection\n",
    "plt.subplot(specs[0,1])\n",
    "sns.heatmap(cf_matrix_fs, annot = True, fmt = '.1f' );\n"
   ]
  },
  {
   "cell_type": "markdown",
   "metadata": {},
   "source": [
    "# 7- Implementação e testes do modelo"
   ]
  },
  {
   "cell_type": "markdown",
   "metadata": {},
   "source": [
    "## Testes de Tuning e Feature Selection"
   ]
  },
  {
   "cell_type": "markdown",
   "metadata": {},
   "source": [
    "### Sem upgrades e sem normalização"
   ]
  },
  {
   "cell_type": "code",
   "execution_count": 109,
   "metadata": {},
   "outputs": [
    {
     "name": "stdout",
     "output_type": "stream",
     "text": [
      "Média Score F1 Macro: 0.9453041875478384\n"
     ]
    },
    {
     "data": {
      "image/png": "[encoded data removed]",
      "text/plain": [
       "<Figure size 720x360 with 2 Axes>"
      ]
     },
     "metadata": {},
     "output_type": "display_data"
    }
   ],
   "source": [
    "model = XGBClassifier().fit(xtr.drop( columns = ['type', 'nameOrig', 'nameDest'] ), ytr)\n",
    "scores, cf_matrix = teste_modelo( xte.drop( columns = ['type', 'nameOrig', 'nameDest'] ), yte, model )\n",
    "\n",
    "print( f'Média Score F1 Macro: {scores.mean()}' )\n",
    "\n",
    "sns.heatmap(\n",
    "    cf_matrix, annot = True, fmt = '.1f' \n",
    ");"
   ]
  },
  {
   "cell_type": "markdown",
   "metadata": {},
   "source": [
    "### Sem upgrades (Best Score)"
   ]
  },
  {
   "cell_type": "code",
   "execution_count": 52,
   "metadata": {},
   "outputs": [
    {
     "name": "stdout",
     "output_type": "stream",
     "text": [
      "Média Score recall_weighted: 0.9999853361110844\n"
     ]
    },
    {
     "data": {
      "image/png": "[encoded data removed]",
      "text/plain": [
       "<Figure size 576x360 with 2 Axes>"
      ]
     },
     "metadata": {},
     "output_type": "display_data"
    }
   ],
   "source": [
    "model = XGBClassifier().fit(xtrn, ytr)\n",
    "scores, cf_matrix = teste_modelo( xten, yte, model )\n",
    "\n",
    "print( f'Média Score recall_weighted: {scores.mean()}' )\n",
    "\n",
    "sns.set( rc = {'figure.figsize' : ( 8,5 )} )\n",
    "sns.heatmap(\n",
    "    cf_matrix, annot = True, fmt = '.1f' \n",
    ");"
   ]
  },
  {
   "cell_type": "markdown",
   "metadata": {},
   "source": [
    "### Sem upgrades e com undersampling"
   ]
  },
  {
   "cell_type": "code",
   "execution_count": 104,
   "metadata": {},
   "outputs": [],
   "source": [
    "x_under = xtrn.reset_index( drop = True )\n",
    "y_under = ytr.reset_index( drop = True )\n",
    "\n",
    "x_tr_tot = pd.concat( [x_under, y_under], axis = 1 )"
   ]
  },
  {
   "cell_type": "code",
   "execution_count": 105,
   "metadata": {},
   "outputs": [],
   "source": [
    "aux      = x_tr_tot[x_tr_tot.isFraud == 0].head(30000)\n",
    "aux1     = x_tr_tot[x_tr_tot.isFraud == 1]\n",
    "aux1.drop(columns = ['isFraud'], axis = 1, inplace = True )\n",
    "x_tr_tot = pd.concat( [aux, aux1], axis = 0 )\n",
    "x_tr_tot = x_tr_tot.fillna(1)\n",
    "\n",
    "x_under = x_tr_tot.drop(  columns = ['isFraud'])\n",
    "y_under = x_tr_tot.isFraud"
   ]
  },
  {
   "cell_type": "code",
   "execution_count": 106,
   "metadata": {},
   "outputs": [
    {
     "name": "stdout",
     "output_type": "stream",
     "text": [
      "Média Score F1 Macro: 0.9512562425033162\n"
     ]
    },
    {
     "data": {
      "image/png": "[encoded data removed]",
      "text/plain": [
       "<Figure size 432x288 with 2 Axes>"
      ]
     },
     "metadata": {
      "needs_background": "light"
     },
     "output_type": "display_data"
    }
   ],
   "source": [
    "model = XGBClassifier().fit(x_under, y_under)\n",
    "scores, cf_matrix = teste_modelo( xten, yte, model )\n",
    "\n",
    "print( f'Média Score F1 Macro: {scores.mean()}' )\n",
    "\n",
    "sns.heatmap(\n",
    "    cf_matrix, annot = True, fmt = '.1f' \n",
    ");"
   ]
  },
  {
   "cell_type": "markdown",
   "metadata": {},
   "source": [
    "### Sem upgrades e feature Selection"
   ]
  },
  {
   "cell_type": "code",
   "execution_count": 106,
   "metadata": {},
   "outputs": [
    {
     "name": "stdout",
     "output_type": "stream",
     "text": [
      "Média Score F1 Macro: 0.9469486163165252\n"
     ]
    },
    {
     "data": {
      "image/png": "[encoded data removed]",
      "text/plain": [
       "<Figure size 720x360 with 2 Axes>"
      ]
     },
     "metadata": {},
     "output_type": "display_data"
    }
   ],
   "source": [
    "model = XGBClassifier().fit(xtrn[cols_selected], ytr)\n",
    "scores, cf_matrix = teste_modelo( xten[cols_selected], yte, model )\n",
    "\n",
    "print( f'Média Score F1 Macro: {scores.mean()}' )\n",
    "\n",
    "sns.heatmap(\n",
    "    cf_matrix, annot = True, fmt = '.1f' \n",
    ");"
   ]
  },
  {
   "cell_type": "markdown",
   "metadata": {},
   "source": [
    "### Com Fine Tuning"
   ]
  },
  {
   "cell_type": "code",
   "execution_count": null,
   "metadata": {},
   "outputs": [],
   "source": [
    "model = XGBClassifier(\n",
    "    colsample_bytree = 0.6,\n",
    "    learning_rate    = 0.001,\n",
    "    max_depth        = 6,\n",
    "    min_child_weight = 1,\n",
    "    n_estimators     = 2000,\n",
    "    subsample        = 1\n",
    ").fit(xtrn, ytr)\n"
   ]
  },
  {
   "cell_type": "code",
   "execution_count": 43,
   "metadata": {},
   "outputs": [
    {
     "name": "stdout",
     "output_type": "stream",
     "text": [
      "Média Score F1 Macro: 0.9174051072409066\n",
      "Recall score: 0.478310502283105\n"
     ]
    },
    {
     "data": {
      "image/png": "[encoded data removed]",
      "text/plain": [
       "<Figure size 432x288 with 2 Axes>"
      ]
     },
     "metadata": {
      "needs_background": "light"
     },
     "output_type": "display_data"
    }
   ],
   "source": [
    "### Calculando score usando Cross validation e criando matrix de confusão\n",
    "scores, cf_matrix = teste_modelo( xten, yte, model )\n",
    "print( f'Média Score F1 Macro: {scores.mean()}' )\n",
    "\n",
    "### Calculando Recall score\n",
    "y_pred = model.predict( xten )\n",
    "rc_s   = recall_score(yte, y_pred, average='binary' , pos_label = 1) \n",
    "print( f'Recall score: {rc_s}' )\n",
    "\n",
    "### Plotando Matrix de confusão\n",
    "sns.heatmap(\n",
    "    cf_matrix, annot = True, fmt = '.1f' \n",
    ");"
   ]
  },
  {
   "cell_type": "markdown",
   "metadata": {},
   "source": [
    "### Alterando Fine Tuning"
   ]
  },
  {
   "cell_type": "code",
   "execution_count": 87,
   "metadata": {},
   "outputs": [
    {
     "name": "stdout",
     "output_type": "stream",
     "text": [
      "Média Score F1 Macro: 0.9180225867809849\n"
     ]
    },
    {
     "data": {
      "image/png": "[encoded data removed]",
      "text/plain": [
       "<Figure size 720x360 with 2 Axes>"
      ]
     },
     "metadata": {},
     "output_type": "display_data"
    }
   ],
   "source": [
    "model = XGBClassifier(\n",
    "    colsample_bytree = 1,\n",
    "    learning_rate    = 0.001,\n",
    "    max_depth        = 6,\n",
    "    min_child_weight = 1,\n",
    "    n_estimators     = 2000,\n",
    "    subsample        = 0.6\n",
    ").fit(xtrn, ytr)\n",
    "scores, cf_matrix = teste_modelo( xten, yte, model )\n",
    "\n",
    "print( f'Média Score F1 Macro: {scores.mean()}' )\n",
    "\n",
    "sns.heatmap(\n",
    "    cf_matrix, annot = True, fmt = '.1f' \n",
    ");"
   ]
  },
  {
   "cell_type": "markdown",
   "metadata": {},
   "source": [
    "### Com Fine Tuning e Feature Selection"
   ]
  },
  {
   "cell_type": "code",
   "execution_count": 86,
   "metadata": {},
   "outputs": [
    {
     "name": "stdout",
     "output_type": "stream",
     "text": [
      "Média Score F1 Macro: 0.8847641085161143\n"
     ]
    },
    {
     "data": {
      "image/png": "[encoded data removed]",
      "text/plain": [
       "<Figure size 720x360 with 2 Axes>"
      ]
     },
     "metadata": {},
     "output_type": "display_data"
    }
   ],
   "source": [
    "model = XGBClassifier(\n",
    "    colsample_bytree = 0.6,\n",
    "    learning_rate    = 0.001,\n",
    "    max_depth        = 6,\n",
    "    min_child_weight = 1,\n",
    "    n_estimators     = 2000,\n",
    "    subsample        = 1\n",
    ").fit(xtrn[cols_selected], ytr)\n",
    "\n",
    "scores, cf_matrix = teste_modelo( xten[cols_selected], yte, model )\n",
    "\n",
    "print( f'Média Score F1 Macro: {scores.mean()}' )\n",
    "\n",
    "sns.heatmap(\n",
    "    cf_matrix, annot = True, fmt = '.1f' \n",
    ");"
   ]
  },
  {
   "cell_type": "markdown",
   "metadata": {},
   "source": [
    "### Adicionando probabilidades geradas pelo Ridge Classifier"
   ]
  },
  {
   "cell_type": "code",
   "execution_count": 27,
   "metadata": {},
   "outputs": [],
   "source": [
    "rdgc = RidgeClassifierCV()\n",
    "rdgc.fit( xtrn, ytr )\n",
    "\n",
    "rgcte_proba = rdgc._predict_proba_lr( xtrn )\n",
    "xtr_proba = xtrn.copy()\n",
    "xtr_proba['proba'] = rgcte_proba[:,1]\n",
    "model = XGBClassifier().fit(xtrn, ytr)\n",
    "y_predict = model.predict( xten )\n",
    "\n",
    "model = RidgeClassifierCV().fit(xten, y_predict)\n",
    "rgcte_proba = model._predict_proba_lr( xten )\n",
    "xte_proba = xten.copy()\n",
    "xte_proba['proba'] = rgcte_proba[:,1]\n",
    "model = XGBClassifier().fit(xtr_proba, ytr)\n"
   ]
  },
  {
   "cell_type": "code",
   "execution_count": 36,
   "metadata": {},
   "outputs": [
    {
     "name": "stdout",
     "output_type": "stream",
     "text": [
      "Média Score F1 Macro: 0.9465068882181983\n"
     ]
    },
    {
     "data": {
      "image/png": "[encoded data removed]",
      "text/plain": [
       "<Figure size 432x288 with 2 Axes>"
      ]
     },
     "metadata": {
      "needs_background": "light"
     },
     "output_type": "display_data"
    }
   ],
   "source": [
    "scores, cf_matrix = teste_modelo( xte_proba, yte, model )\n",
    "\n",
    "print( f'Média Score F1 Macro: {scores.mean()}' )\n",
    "\n",
    "sns.heatmap(\n",
    "    cf_matrix, annot = True, fmt = '.1f' \n",
    ");"
   ]
  },
  {
   "cell_type": "markdown",
   "metadata": {},
   "source": [
    "### Save do modelo (Best Score)"
   ]
  },
  {
   "cell_type": "code",
   "execution_count": 54,
   "metadata": {},
   "outputs": [],
   "source": [
    "pkl.dump( model, open( '../data/models/xgboost.sav', 'wb' ) )"
   ]
  },
  {
   "cell_type": "markdown",
   "metadata": {},
   "source": [
    "# CheckPoint"
   ]
  },
  {
   "cell_type": "code",
   "execution_count": null,
   "metadata": {},
   "outputs": [],
   "source": [
    "### Importação das métricas de normalização\n",
    "rs   = pkl.load( open( '../data/models/rs.sav', 'rb' ) )\n",
    "mms   = pkl.load( open( '../data/models/mms.sav', 'rb' ) )\n",
    "\n",
    "\n",
    "### Importando valores de x já normalizados (exeto x_val)\n",
    "xtrn   = pkl.load( open( '../data/pickle/xtrn.sav', 'rb' ) )\n",
    "xten   = pkl.load( open( '../data/pickle/xten.sav', 'rb' ) )\n",
    "xval  = pkl.load( open( '../data/pickle/xval.sav', 'rb' ) )\n",
    "\n",
    "### Importando valores de y\n",
    "ytr    = pkl.load( open( '../data/pickle/ytr.sav', 'rb' ) )\n",
    "yte    = pkl.load( open( '../data/pickle/yte.sav', 'rb' ) )\n",
    "yval  = pkl.load( open( '../data/pickle/yval.sav', 'rb' ) )\n",
    "\n",
    "### Importando melhor modelo (parametrização)\n",
    "model  = pkl.load( open( '../data/models/xgboost.sav', 'rb' ) )"
   ]
  },
  {
   "cell_type": "markdown",
   "metadata": {},
   "source": [
    "# 8- Deploy"
   ]
  },
  {
   "cell_type": "code",
   "execution_count": 55,
   "metadata": {},
   "outputs": [],
   "source": [
    "### Concatenando valores de treino e teste\n",
    "x_trn = pd.concat( [xtrn, xten] )\n",
    "y_tr = pd.concat( [ytr, yte] )\n"
   ]
  },
  {
   "cell_type": "code",
   "execution_count": 56,
   "metadata": {},
   "outputs": [
    {
     "data": {
      "text/html": [
       "<style>#sk-container-id-1 {color: black;background-color: white;}#sk-container-id-1 pre{padding: 0;}#sk-container-id-1 div.sk-toggleable {background-color: white;}#sk-container-id-1 label.sk-toggleable__label {cursor: pointer;display: block;width: 100%;margin-bottom: 0;padding: 0.3em;box-sizing: border-box;text-align: center;}#sk-container-id-1 label.sk-toggleable__label-arrow:before {content: \"▸\";float: left;margin-right: 0.25em;color: #696969;}#sk-container-id-1 label.sk-toggleable__label-arrow:hover:before {color: black;}#sk-container-id-1 div.sk-estimator:hover label.sk-toggleable__label-arrow:before {color: black;}#sk-container-id-1 div.sk-toggleable__content {max-height: 0;max-width: 0;overflow: hidden;text-align: left;background-color: #f0f8ff;}#sk-container-id-1 div.sk-toggleable__content pre {margin: 0.2em;color: black;border-radius: 0.25em;background-color: #f0f8ff;}#sk-container-id-1 input.sk-toggleable__control:checked~div.sk-toggleable__content {max-height: 200px;max-width: 100%;overflow: auto;}#sk-container-id-1 input.sk-toggleable__control:checked~label.sk-toggleable__label-arrow:before {content: \"▾\";}#sk-container-id-1 div.sk-estimator input.sk-toggleable__control:checked~label.sk-toggleable__label {background-color: #d4ebff;}#sk-container-id-1 div.sk-label input.sk-toggleable__control:checked~label.sk-toggleable__label {background-color: #d4ebff;}#sk-container-id-1 input.sk-hidden--visually {border: 0;clip: rect(1px 1px 1px 1px);clip: rect(1px, 1px, 1px, 1px);height: 1px;margin: -1px;overflow: hidden;padding: 0;position: absolute;width: 1px;}#sk-container-id-1 div.sk-estimator {font-family: monospace;background-color: #f0f8ff;border: 1px dotted black;border-radius: 0.25em;box-sizing: border-box;margin-bottom: 0.5em;}#sk-container-id-1 div.sk-estimator:hover {background-color: #d4ebff;}#sk-container-id-1 div.sk-parallel-item::after {content: \"\";width: 100%;border-bottom: 1px solid gray;flex-grow: 1;}#sk-container-id-1 div.sk-label:hover label.sk-toggleable__label {background-color: #d4ebff;}#sk-container-id-1 div.sk-serial::before {content: \"\";position: absolute;border-left: 1px solid gray;box-sizing: border-box;top: 0;bottom: 0;left: 50%;z-index: 0;}#sk-container-id-1 div.sk-serial {display: flex;flex-direction: column;align-items: center;background-color: white;padding-right: 0.2em;padding-left: 0.2em;position: relative;}#sk-container-id-1 div.sk-item {position: relative;z-index: 1;}#sk-container-id-1 div.sk-parallel {display: flex;align-items: stretch;justify-content: center;background-color: white;position: relative;}#sk-container-id-1 div.sk-item::before, #sk-container-id-1 div.sk-parallel-item::before {content: \"\";position: absolute;border-left: 1px solid gray;box-sizing: border-box;top: 0;bottom: 0;left: 50%;z-index: -1;}#sk-container-id-1 div.sk-parallel-item {display: flex;flex-direction: column;z-index: 1;position: relative;background-color: white;}#sk-container-id-1 div.sk-parallel-item:first-child::after {align-self: flex-end;width: 50%;}#sk-container-id-1 div.sk-parallel-item:last-child::after {align-self: flex-start;width: 50%;}#sk-container-id-1 div.sk-parallel-item:only-child::after {width: 0;}#sk-container-id-1 div.sk-dashed-wrapped {border: 1px dashed gray;margin: 0 0.4em 0.5em 0.4em;box-sizing: border-box;padding-bottom: 0.4em;background-color: white;}#sk-container-id-1 div.sk-label label {font-family: monospace;font-weight: bold;display: inline-block;line-height: 1.2em;}#sk-container-id-1 div.sk-label-container {text-align: center;}#sk-container-id-1 div.sk-container {/* jupyter's `normalize.less` sets `[hidden] { display: none; }` but bootstrap.min.css set `[hidden] { display: none !important; }` so we also need the `!important` here to be able to override the default hidden behavior on the sphinx rendered scikit-learn.org. See: https://github.com/scikit-learn/scikit-learn/issues/21755 */display: inline-block !important;position: relative;}#sk-container-id-1 div.sk-text-repr-fallback {display: none;}</style><div id=\"sk-container-id-1\" class=\"sk-top-container\"><div class=\"sk-text-repr-fallback\"><pre>XGBClassifier(base_score=0.5, booster=&#x27;gbtree&#x27;, callbacks=None,\n",
       "              colsample_bylevel=1, colsample_bynode=1, colsample_bytree=1,\n",
       "              early_stopping_rounds=None, enable_categorical=False,\n",
       "              eval_metric=None, gamma=0, gpu_id=-1, grow_policy=&#x27;depthwise&#x27;,\n",
       "              importance_type=None, interaction_constraints=&#x27;&#x27;,\n",
       "              learning_rate=0.300000012, max_bin=256, max_cat_to_onehot=4,\n",
       "              max_delta_step=0, max_depth=6, max_leaves=0, min_child_weight=1,\n",
       "              missing=nan, monotone_constraints=&#x27;()&#x27;, n_estimators=100,\n",
       "              n_jobs=0, num_parallel_tree=1, predictor=&#x27;auto&#x27;, random_state=0,\n",
       "              reg_alpha=0, reg_lambda=1, ...)</pre><b>In a Jupyter environment, please rerun this cell to show the HTML representation or trust the notebook. <br />On GitHub, the HTML representation is unable to render, please try loading this page with nbviewer.org.</b></div><div class=\"sk-container\" hidden><div class=\"sk-item\"><div class=\"sk-estimator sk-toggleable\"><input class=\"sk-toggleable__control sk-hidden--visually\" id=\"sk-estimator-id-1\" type=\"checkbox\" checked><label for=\"sk-estimator-id-1\" class=\"sk-toggleable__label sk-toggleable__label-arrow\">XGBClassifier</label><div class=\"sk-toggleable__content\"><pre>XGBClassifier(base_score=0.5, booster=&#x27;gbtree&#x27;, callbacks=None,\n",
       "              colsample_bylevel=1, colsample_bynode=1, colsample_bytree=1,\n",
       "              early_stopping_rounds=None, enable_categorical=False,\n",
       "              eval_metric=None, gamma=0, gpu_id=-1, grow_policy=&#x27;depthwise&#x27;,\n",
       "              importance_type=None, interaction_constraints=&#x27;&#x27;,\n",
       "              learning_rate=0.300000012, max_bin=256, max_cat_to_onehot=4,\n",
       "              max_delta_step=0, max_depth=6, max_leaves=0, min_child_weight=1,\n",
       "              missing=nan, monotone_constraints=&#x27;()&#x27;, n_estimators=100,\n",
       "              n_jobs=0, num_parallel_tree=1, predictor=&#x27;auto&#x27;, random_state=0,\n",
       "              reg_alpha=0, reg_lambda=1, ...)</pre></div></div></div></div></div>"
      ],
      "text/plain": [
       "XGBClassifier(base_score=0.5, booster='gbtree', callbacks=None,\n",
       "              colsample_bylevel=1, colsample_bynode=1, colsample_bytree=1,\n",
       "              early_stopping_rounds=None, enable_categorical=False,\n",
       "              eval_metric=None, gamma=0, gpu_id=-1, grow_policy='depthwise',\n",
       "              importance_type=None, interaction_constraints='',\n",
       "              learning_rate=0.300000012, max_bin=256, max_cat_to_onehot=4,\n",
       "              max_delta_step=0, max_depth=6, max_leaves=0, min_child_weight=1,\n",
       "              missing=nan, monotone_constraints='()', n_estimators=100,\n",
       "              n_jobs=0, num_parallel_tree=1, predictor='auto', random_state=0,\n",
       "              reg_alpha=0, reg_lambda=1, ...)"
      ]
     },
     "execution_count": 56,
     "metadata": {},
     "output_type": "execute_result"
    }
   ],
   "source": [
    "### Treinando modelo com dados globais\n",
    "model.fit( x_trn.drop( columns = 'isFlaggedFraud' ), y_tr )"
   ]
  },
  {
   "cell_type": "code",
   "execution_count": 57,
   "metadata": {},
   "outputs": [],
   "source": [
    "### Normalização dos dados de validação\n",
    "x_valn, rs, mms = nt.rescaling( xval, rs, mms )\n",
    "x_valn.drop( columns = 'isFlaggedFraud', inplace = True )\n"
   ]
  },
  {
   "cell_type": "code",
   "execution_count": 58,
   "metadata": {},
   "outputs": [
    {
     "name": "stdout",
     "output_type": "stream",
     "text": [
      "Média de pontuação : 0.9999729280563067\n"
     ]
    },
    {
     "data": {
      "image/png": "[encoded data removed]",
      "text/plain": [
       "<Figure size 576x360 with 2 Axes>"
      ]
     },
     "metadata": {},
     "output_type": "display_data"
    }
   ],
   "source": [
    "### Resultado do modelo utilizando 'cross_val_score' e obtendo confusion matrix (Mantendo padrão de 5 dobras)\n",
    "score, cm_final = teste_modelo( x_valn, yval, model )\n",
    "y_pred = model.predict( x_valn )\n",
    "\n",
    "### Plotando Confusion Matrix\n",
    "sns.set( rc = {'figure.figsize' : (8,5)} )\n",
    "sns.heatmap(\n",
    "    cm_final, \n",
    "    annot = True,\n",
    "    fmt = '.1f'\n",
    ");\n",
    "### Resultados do modelo. Métrica: \"recall_weighted\"\n",
    "print( f'Média de pontuação : {score.mean()}' )"
   ]
  },
  {
   "cell_type": "code",
   "execution_count": 59,
   "metadata": {},
   "outputs": [],
   "source": [
    "### Salvando o modelo\n",
    "pkl.dump( model, open( '../data/models/xgb_final.sav', 'wb' ) )\n",
    "pkl.dump( y_pred, open( '../data/pickle/y_pred.sav', 'wb' ) )"
   ]
  },
  {
   "cell_type": "markdown",
   "metadata": {},
   "source": [
    "# 8- Métricas de negócio"
   ]
  },
  {
   "cell_type": "markdown",
   "metadata": {},
   "source": [
    "### Criando tabelas"
   ]
  },
  {
   "cell_type": "code",
   "execution_count": 60,
   "metadata": {},
   "outputs": [],
   "source": [
    "expeted_r = pd.DataFrame()\n",
    "\n",
    "expeted_r['y_real']      = yval\n",
    "expeted_r['y_pred']      = y_pred\n",
    "expeted_r['valor']       = xval.amount\n",
    "expeted_r['false_positive'] = expeted_r.apply( lambda x : x['valor'] if ( x['y_real'] == 1 ) & ( x['y_pred'] == 0 ) else 0, axis = 1 )\n",
    "expeted_r['false_negative'] = expeted_r.apply( lambda x : (x['valor'] * 0.05) if ( x['y_real'] == 0 ) & ( x['y_pred'] == 1 ) else 0, axis = 1 )\n"
   ]
  },
  {
   "cell_type": "code",
   "execution_count": 188,
   "metadata": {},
   "outputs": [],
   "source": [
    "### Cálculo do custo dos falsos negativos\n",
    "fn          = expeted_r[expeted_r.false_negative != 0].false_negative.sum()\n",
    "### Porcentagem dos falsos negativos\n",
    "prc_fn      = ( expeted_r[expeted_r.false_negative != 0].false_negative.count() ) / ( expeted_r[expeted_r.y_real == 0].false_negative.count() ) * 100\n",
    "\n",
    "### Cálculo dos falsos positivos\n",
    "fp          = expeted_r[expeted_r.false_positive != 0].false_positive.sum()\n",
    "### Porcentagem dos falsos positivos\n",
    "prc_fp      = ( expeted_r[expeted_r.false_positive != 0].false_negative.count() ) / ( expeted_r[expeted_r.y_real == 0].false_negative.count() ) * 100\n",
    "\n",
    "### Cálculo do custo total\n",
    "custo_fpfn   = fp + fn\n",
    "### Cálculo do valor total movimentado\n",
    "total_mov       = expeted_r.valor.sum()\n",
    "### Cálculo da porcentagem do custo no montante total\n",
    "prc_ct      = (custo_fpfn / total_mov) * 100\n",
    "\n",
    "### Cálculo do retorno\n",
    "retorno     = ( expeted_r[( expeted_r.y_real == 1 ) & ( expeted_r.y_pred == 1 )].valor.sum() ) * 0.15\n",
    "\n",
    "### Cálculo do lucro total\n",
    "lucro       = ( retorno - custo_fpfn )\n",
    "\n",
    "### Porcentagem lucro valor total\n",
    "prc_lucro   = lucro / total_mov * 100"
   ]
  },
  {
   "cell_type": "markdown",
   "metadata": {},
   "source": [
    "### Save"
   ]
  },
  {
   "cell_type": "code",
   "execution_count": 189,
   "metadata": {},
   "outputs": [],
   "source": [
    "pkl.dump( expeted_r, open( '../data/retorno_esp/expeted_r.sav', 'wb' ) )\n",
    "pkl.dump( fn, open( '../data/retorno_esp/fn.sav', 'wb' ) )\n",
    "pkl.dump( prc_fn, open( '../data/retorno_esp/prc_fn.sav', 'wb' ) )\n",
    "pkl.dump( fp, open( '../data/retorno_esp/fp.sav', 'wb' ) )\n",
    "pkl.dump( prc_fp, open( '../data/retorno_esp/prc_fp.sav', 'wb' ) )\n",
    "\n",
    "pkl.dump( custo_fpfn, open( '../data/retorno_esp/custo_fpfn.sav', 'wb' ) )\n",
    "pkl.dump( total_mov, open( '../data/retorno_esp/total_mov.sav', 'wb' ) )\n",
    "pkl.dump( prc_ct, open( '../data/retorno_esp/prc_ct.sav', 'wb' ) )\n",
    "pkl.dump( retorno, open( '../data/retorno_esp/retorno.sav', 'wb' ) )\n",
    "pkl.dump( lucro, open( '../data/retorno_esp/lucro.sav', 'wb' ) )\n",
    "pkl.dump( prc_lucro, open( '../data/retorno_esp/prc_lucro.sav', 'wb' ) )"
   ]
  },
  {
   "cell_type": "markdown",
   "metadata": {},
   "source": [
    "### Resultados"
   ]
  },
  {
   "cell_type": "code",
   "execution_count": 192,
   "metadata": {},
   "outputs": [
    {
     "name": "stdout",
     "output_type": "stream",
     "text": [
      "### --- Valores reais --- ###  \n",
      "Valor total da movimentação ------------------------------ : 70.688.438.278,38 \n",
      "Valor total dos custos (falsos positivos e negativos) ---- :      1.214.523,61\n",
      "Valor de retoorno (Positivos reais) ---------------------- :    164.455.817,68\n",
      "Valor de lucro (ganhos - gastos) ------------------------- :    163.241.294,07\n",
      "\n",
      "### --- Valores percentuais --- ###  \n",
      "Porcentagem do lucro referente a valot total ------------- : 0.231%\n",
      "Porcentagem do custo total frente ao valor transacional -- : 0.00172%\n",
      "Porcentagem de falsos positivos frente aos positivos reais : 0.00181%\n",
      "Porcentagem de falsos negativos frente aos negativos reais : 0.000453%\n"
     ]
    }
   ],
   "source": [
    "print( '### --- Valores reais --- ###  ' )\n",
    "print( f'Valor total da movimentação ------------------------------ : {total_mov:_.2f} '.replace('.', ',').replace('_', '.') )\n",
    "print( f'Valor total dos custos (falsos positivos e negativos) ---- :      {custo_fpfn:_.2f}'.replace('.', ',').replace('_', '.') )\n",
    "print( f'Valor de retoorno (Positivos reais) ---------------------- :    {retorno:_.2f}'.replace('.', ',').replace('_', '.') )\n",
    "print( f'Valor de lucro (ganhos - gastos) ------------------------- :    {lucro:_.2f}'.replace('.', ',').replace('_', '.') )\n",
    "\n",
    "print( '' )\n",
    "print( '### --- Valores percentuais --- ###  ' )\n",
    "print( f'Porcentagem do lucro referente a valot total ------------- : {prc_lucro:.3}%' )\n",
    "print( f'Porcentagem do custo total frente ao valor transacional -- : {prc_ct:.3}%' ) \n",
    "print( f'Porcentagem de falsos positivos frente aos positivos reais : {prc_fp:.3}%' )\n",
    "print( f'Porcentagem de falsos negativos frente aos negativos reais : {prc_fn:.3}%' ) \n",
    "\n",
    "\n"
   ]
  }
 ],
 "metadata": {
  "kernelspec": {
   "display_name": "Python 3.10.6 64-bit",
   "language": "python",
   "name": "python3"
  },
  "language_info": {
   "codemirror_mode": {
    "name": "ipython",
    "version": 3
   },
   "file_extension": ".py",
   "mimetype": "text/x-python",
   "name": "python",
   "nbconvert_exporter": "python",
   "pygments_lexer": "ipython3",
   "version": "3.10.6"
  },
  "orig_nbformat": 4,
  "vscode": {
   "interpreter": {
    "hash": "31f2aee4e71d21fbe5cf8b01ff0e069b9275f58929596ceb00d14d90e3e16cd6"
   }
  }
 },
 "nbformat": 4,
 "nbformat_minor": 2
}
