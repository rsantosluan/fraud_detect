{
 "cells": [
  {
   "cell_type": "markdown",
   "metadata": {},
   "source": [
    "# 1- Imports"
   ]
  },
  {
   "cell_type": "code",
   "execution_count": 2,
   "metadata": {},
   "outputs": [],
   "source": [
    "## Essenciais\n",
    "import pandas as pd\n",
    "import numpy  as np\n",
    "\n",
    "import pickle as pkl\n",
    "\n",
    "### ML\n",
    "from sklearn.linear_model import RidgeClassifierCV\n",
    "from sklearn.metrics      import f1_score  "
   ]
  },
  {
   "cell_type": "markdown",
   "metadata": {},
   "source": [
    "# 2- Importação dos dados"
   ]
  },
  {
   "cell_type": "code",
   "execution_count": 4,
   "metadata": {},
   "outputs": [],
   "source": [
    "xtr = pkl.load( open( '../data/pickle/xtr.sav', 'rb' ) )\n",
    "xte = pkl.load( open( '../data/pickle/xte.sav', 'rb' ) )\n",
    "\n",
    "ytr = pkl.load( open( '../data/pickle/ytr.sav', 'rb' ) )\n",
    "yte = pkl.load( open( '../data/pickle/yte.sav', 'rb' ) )"
   ]
  }
 ],
 "metadata": {
  "kernelspec": {
   "display_name": "Python 3.10.6 ('nuter_venv': venv)",
   "language": "python",
   "name": "python3"
  },
  "language_info": {
   "codemirror_mode": {
    "name": "ipython",
    "version": 3
   },
   "file_extension": ".py",
   "mimetype": "text/x-python",
   "name": "python",
   "nbconvert_exporter": "python",
   "pygments_lexer": "ipython3",
   "version": "3.10.6"
  },
  "orig_nbformat": 4,
  "vscode": {
   "interpreter": {
    "hash": "2e80be165e2f1d2909976ba03aa8ec4a0df1e8bc8638cb33ef2fbe35d32f6618"
   }
  }
 },
 "nbformat": 4,
 "nbformat_minor": 2
}
