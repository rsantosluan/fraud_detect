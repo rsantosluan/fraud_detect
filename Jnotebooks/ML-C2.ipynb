{
 "cells": [
  {
   "cell_type": "markdown",
   "metadata": {},
   "source": [
    "# 1- Imports"
   ]
  },
  {
   "cell_type": "code",
   "execution_count": 2,
   "metadata": {},
   "outputs": [],
   "source": [
    "## Essenciais\n",
    "import pandas as pd\n",
    "import numpy  as np\n",
    "\n",
    "### Save\n",
    "import pickle as pkl\n",
    "\n",
    "### Plot gráfico\n",
    "from matplotlib.gridspec import GridSpec\n",
    "import matplotlib.pyplot as plt\n",
    "import seaborn           as sns\n",
    "\n",
    "### Machine Learning\n",
    "# Métricas\n",
    "from sklearn.model_selection import train_test_split, cross_val_score, GridSearchCV, StratifiedKFold\n",
    "from sklearn.metrics         import f1_score, confusion_matrix, recall_score \n",
    "# Modelos\n",
    "from sklearn.ensemble        import RandomForestClassifier\n",
    "from xgboost                 import XGBClassifier\n",
    "from sklearn.linear_model    import RidgeClassifierCV, LogisticRegressionCV\n",
    "\n",
    "\n",
    "### Lib proprietária\n",
    "from RSLib.nuter import preparacao_dados as nt\n",
    "from RSLib.nuter import ML_process as mlp\n"
   ]
  },
  {
   "cell_type": "markdown",
   "metadata": {},
   "source": [
    "# Funções auxiliares | Configurações"
   ]
  },
  {
   "cell_type": "code",
   "execution_count": 3,
   "metadata": {},
   "outputs": [],
   "source": [
    "### Notações científicas\n",
    "pd.set_option('display.float_format', lambda x: '%.5f' % x)\n",
    "\n",
    "# Avisos\n",
    "import warnings\n",
    "warnings.simplefilter(\"ignore\")"
   ]
  },
  {
   "cell_type": "code",
   "execution_count": 4,
   "metadata": {},
   "outputs": [],
   "source": [
    "def cv_result(rfc, xgbc, rdgc, lrgc, xten, yte):\n",
    "    # predict\n",
    "    y_pred_rf  = rfc.predict( xten )\n",
    "    y_pred_xgb = xgbc.predict( xten )\n",
    "    y_pred_rc  = rdgc.predict( xten )\n",
    "    y_pred_lr  = lrgc.predict( xten )\n",
    "\n",
    "    # Confusion Matrix\n",
    "    conf_matrx( y_pred_rf, y_pred_xgb, y_pred_rc, y_pred_lr, yte )\n",
    "\n",
    "    # F1 Score data frame \n",
    "    result = pd.DataFrame({\n",
    "    'Random_Forest'           : f1_score( yte, y_pred_rf, average='binary' , pos_label = 1 ),\n",
    "    'XGBoost'                 : f1_score( yte, y_pred_xgb, average='binary', pos_label = 1 ),\n",
    "    'Ridge_Classifier'        : f1_score( yte, y_pred_rc, average='binary' , pos_label = 1 ),\n",
    "    'Logistic_Reg' : f1_score( yte, y_pred_lr, average='binary' , pos_label = 1 )\n",
    "    \n",
    "    }, index = [0])\n",
    "\n",
    "    return result\n",
    "\n",
    "\n",
    "def conf_matrx( y_pred_rf, y_pred_xgb, y_pred_rc, y_pred_lr, yte  ):\n",
    "    # Configurações de tamanho de plot\n",
    "    sns.set( rc={'figure.figsize' : (20,8)} )\n",
    "\n",
    "    #divisão em specs(quadros dentro do mesmo conjunto de plot gráfico)\n",
    "    specs = GridSpec(2,2)\n",
    "\n",
    "    ###--- Random Forest ---###\n",
    "    plt.subplot(specs[0,0])\n",
    "    #Matriz de confusão\n",
    "    cf_matrix = confusion_matrix(yte, y_pred_rf)\n",
    "    sns.heatmap(cf_matrix, annot = True, fmt = '.1f' )\n",
    "    plt.title( 'Random Forest Classifier' )\n",
    "\n",
    "    ###--- Random Forest ---###\n",
    "    plt.subplot(specs[0,1])\n",
    "    #Matriz de confusão\n",
    "    cf_matrix = confusion_matrix(yte, y_pred_xgb)\n",
    "    sns.heatmap(cf_matrix, annot = True, fmt = '.1f' )\n",
    "    plt.title( 'XGBoost Classifier' )\n",
    "\n",
    "    ###--- Random Forest ---###\n",
    "    plt.subplot(specs[1,0])\n",
    "    #Matriz de confusão\n",
    "    cf_matrix = confusion_matrix(yte, y_pred_rc)\n",
    "    sns.heatmap(cf_matrix, annot = True, fmt = '.1f' )\n",
    "    plt.title( 'Ridge Classifier' )\n",
    "\n",
    "    ###--- Random Forest ---###\n",
    "    plt.subplot(specs[1,1])\n",
    "    #Matriz de confusão\n",
    "    cf_matrix = confusion_matrix(yte, y_pred_lr)\n",
    "    sns.heatmap(cf_matrix, annot = True, fmt = '.1f' )\n",
    "    plt.title( 'Logistic Regressor' )"
   ]
  },
  {
   "cell_type": "code",
   "execution_count": 5,
   "metadata": {},
   "outputs": [],
   "source": [
    "def fine_T():   \n",
    "    ### Escolha dos parâmetros a serem testados\n",
    "    param = {\n",
    "        'n_estimators'      : [1000, 2000],\n",
    "        'max_depth'        : [1, 6, 50],\n",
    "        'learning_rate'    : [0.001, 0.6, 1],\n",
    "        'min_child_weight' : [1, 6, 20],\n",
    "        'subsample'        : [0.1, 0.6, 1],\n",
    "        'colsample_bytree' : [0.1, 0.6, 1]\n",
    "\n",
    "    }\n",
    "\n",
    "    ### Modelo\n",
    "    xgb = XGBClassifier()\n",
    "\n",
    "    ### GridSearch\n",
    "    gs_xgb = GridSearchCV(\n",
    "        estimator  = xgb,\n",
    "        param_grid = param,\n",
    "        cv         = StratifiedKFold( n_splits = 2), \n",
    "        scoring    = 'f1_weighted',\n",
    "        verbose    = 1\n",
    "\n",
    "    )\n",
    "    return gs_xgb\n",
    "\n",
    "def teste_modelo( x, y, model, cv = 5):\n",
    "    scores = cross_val_score(\n",
    "        model, x, y, cv = cv, scoring = 'f1_macro', \n",
    "    ) \n",
    "\n",
    "    ypred = model.predict( x )\n",
    "    cf_matrix = confusion_matrix(y, ypred)\n",
    "    \n",
    "    return scores, cf_matrix    "
   ]
  },
  {
   "cell_type": "markdown",
   "metadata": {},
   "source": [
    "# 2- Importação dos dados"
   ]
  },
  {
   "cell_type": "code",
   "execution_count": 6,
   "metadata": {},
   "outputs": [],
   "source": [
    "data_raw = pkl.load( open( '../data/pickle/clean_data.sav', 'rb' ) )"
   ]
  },
  {
   "cell_type": "code",
   "execution_count": 8,
   "metadata": {},
   "outputs": [],
   "source": [
    "### Separando DF em variáveis preditoras e variável resposta \n",
    "x = data_raw.drop( columns = 'isFraud' )\n",
    "y = data_raw.isFraud"
   ]
  },
  {
   "cell_type": "code",
   "execution_count": 9,
   "metadata": {},
   "outputs": [],
   "source": [
    "### Feature Eng.\n",
    "x = nt.feature_eng( x )"
   ]
  },
  {
   "cell_type": "code",
   "execution_count": 10,
   "metadata": {},
   "outputs": [],
   "source": [
    "pkl.dump( x, open( '../data/pickle/x.sav', 'wb' ) )\n",
    "pkl.dump( y, open( '../data/pickle/y.sav', 'wb' ) )"
   ]
  },
  {
   "cell_type": "code",
   "execution_count": 22,
   "metadata": {},
   "outputs": [],
   "source": [
    "x = pkl.load( open( '../data/pickle/x.sav', 'rb' ) )"
   ]
  },
  {
   "cell_type": "markdown",
   "metadata": {},
   "source": [
    "# 4- Separação dos dados em: Treino validação e teste"
   ]
  },
  {
   "cell_type": "code",
   "execution_count": 11,
   "metadata": {},
   "outputs": [],
   "source": [
    "### Separando conjuntos\n",
    "# Total em: Treino e validação\n",
    "xtr, xte_val, ytr, yte_val = train_test_split( x, y, train_size = 0.6, stratify = y  )\n",
    "# Validaçao em: Validação e teste   \n",
    "xte, xval, yte, yval = train_test_split( xte_val, yte_val, train_size = 0.8, stratify = yte_val )\n",
    "\n",
    "### Salvando treino, validação e teste\n",
    "pkl.dump( xtr, open( '../data/pickle/xtr.sav', 'wb' ) )\n",
    "pkl.dump( ytr, open( '../data/pickle/ytr.sav', 'wb' ) )\n",
    "pkl.dump( xte, open( '../data/pickle/xte.sav', 'wb' ) )\n",
    "pkl.dump( yte, open( '../data/pickle/yte.sav', 'wb' ) )\n",
    "pkl.dump( xval, open( '../data/pickle/xval.sav', 'wb' ) )\n",
    "pkl.dump( yval, open( '../data/pickle/yval.sav', 'wb' ) )"
   ]
  },
  {
   "cell_type": "markdown",
   "metadata": {},
   "source": [
    "# 3- Preparação dos dados ( Normalização ) "
   ]
  },
  {
   "cell_type": "code",
   "execution_count": 12,
   "metadata": {},
   "outputs": [],
   "source": [
    "xtrn, rs, mms = nt.rescaling( xtr )\n",
    "xten, rs, mms = nt.rescaling( xte )\n",
    "\n",
    "pkl.dump( rs, open( '../data/models/rs.sav', 'wb' ) )\n",
    "pkl.dump( mms, open( '../data/models/rs.sav', 'wb' ) )\n",
    "\n"
   ]
  },
  {
   "cell_type": "markdown",
   "metadata": {},
   "source": [
    "# 4- Teste de modelos ( XGBoost selecionado )"
   ]
  },
  {
   "cell_type": "markdown",
   "metadata": {},
   "source": [
    "#### Random Forest"
   ]
  },
  {
   "cell_type": "code",
   "execution_count": 4,
   "metadata": {},
   "outputs": [
    {
     "data": {
      "text/html": [
       "<style>#sk-container-id-1 {color: black;background-color: white;}#sk-container-id-1 pre{padding: 0;}#sk-container-id-1 div.sk-toggleable {background-color: white;}#sk-container-id-1 label.sk-toggleable__label {cursor: pointer;display: block;width: 100%;margin-bottom: 0;padding: 0.3em;box-sizing: border-box;text-align: center;}#sk-container-id-1 label.sk-toggleable__label-arrow:before {content: \"▸\";float: left;margin-right: 0.25em;color: #696969;}#sk-container-id-1 label.sk-toggleable__label-arrow:hover:before {color: black;}#sk-container-id-1 div.sk-estimator:hover label.sk-toggleable__label-arrow:before {color: black;}#sk-container-id-1 div.sk-toggleable__content {max-height: 0;max-width: 0;overflow: hidden;text-align: left;background-color: #f0f8ff;}#sk-container-id-1 div.sk-toggleable__content pre {margin: 0.2em;color: black;border-radius: 0.25em;background-color: #f0f8ff;}#sk-container-id-1 input.sk-toggleable__control:checked~div.sk-toggleable__content {max-height: 200px;max-width: 100%;overflow: auto;}#sk-container-id-1 input.sk-toggleable__control:checked~label.sk-toggleable__label-arrow:before {content: \"▾\";}#sk-container-id-1 div.sk-estimator input.sk-toggleable__control:checked~label.sk-toggleable__label {background-color: #d4ebff;}#sk-container-id-1 div.sk-label input.sk-toggleable__control:checked~label.sk-toggleable__label {background-color: #d4ebff;}#sk-container-id-1 input.sk-hidden--visually {border: 0;clip: rect(1px 1px 1px 1px);clip: rect(1px, 1px, 1px, 1px);height: 1px;margin: -1px;overflow: hidden;padding: 0;position: absolute;width: 1px;}#sk-container-id-1 div.sk-estimator {font-family: monospace;background-color: #f0f8ff;border: 1px dotted black;border-radius: 0.25em;box-sizing: border-box;margin-bottom: 0.5em;}#sk-container-id-1 div.sk-estimator:hover {background-color: #d4ebff;}#sk-container-id-1 div.sk-parallel-item::after {content: \"\";width: 100%;border-bottom: 1px solid gray;flex-grow: 1;}#sk-container-id-1 div.sk-label:hover label.sk-toggleable__label {background-color: #d4ebff;}#sk-container-id-1 div.sk-serial::before {content: \"\";position: absolute;border-left: 1px solid gray;box-sizing: border-box;top: 0;bottom: 0;left: 50%;z-index: 0;}#sk-container-id-1 div.sk-serial {display: flex;flex-direction: column;align-items: center;background-color: white;padding-right: 0.2em;padding-left: 0.2em;position: relative;}#sk-container-id-1 div.sk-item {position: relative;z-index: 1;}#sk-container-id-1 div.sk-parallel {display: flex;align-items: stretch;justify-content: center;background-color: white;position: relative;}#sk-container-id-1 div.sk-item::before, #sk-container-id-1 div.sk-parallel-item::before {content: \"\";position: absolute;border-left: 1px solid gray;box-sizing: border-box;top: 0;bottom: 0;left: 50%;z-index: -1;}#sk-container-id-1 div.sk-parallel-item {display: flex;flex-direction: column;z-index: 1;position: relative;background-color: white;}#sk-container-id-1 div.sk-parallel-item:first-child::after {align-self: flex-end;width: 50%;}#sk-container-id-1 div.sk-parallel-item:last-child::after {align-self: flex-start;width: 50%;}#sk-container-id-1 div.sk-parallel-item:only-child::after {width: 0;}#sk-container-id-1 div.sk-dashed-wrapped {border: 1px dashed gray;margin: 0 0.4em 0.5em 0.4em;box-sizing: border-box;padding-bottom: 0.4em;background-color: white;}#sk-container-id-1 div.sk-label label {font-family: monospace;font-weight: bold;display: inline-block;line-height: 1.2em;}#sk-container-id-1 div.sk-label-container {text-align: center;}#sk-container-id-1 div.sk-container {/* jupyter's `normalize.less` sets `[hidden] { display: none; }` but bootstrap.min.css set `[hidden] { display: none !important; }` so we also need the `!important` here to be able to override the default hidden behavior on the sphinx rendered scikit-learn.org. See: https://github.com/scikit-learn/scikit-learn/issues/21755 */display: inline-block !important;position: relative;}#sk-container-id-1 div.sk-text-repr-fallback {display: none;}</style><div id=\"sk-container-id-1\" class=\"sk-top-container\"><div class=\"sk-text-repr-fallback\"><pre>RandomForestClassifier(n_jobs=-1)</pre><b>In a Jupyter environment, please rerun this cell to show the HTML representation or trust the notebook. <br />On GitHub, the HTML representation is unable to render, please try loading this page with nbviewer.org.</b></div><div class=\"sk-container\" hidden><div class=\"sk-item\"><div class=\"sk-estimator sk-toggleable\"><input class=\"sk-toggleable__control sk-hidden--visually\" id=\"sk-estimator-id-1\" type=\"checkbox\" checked><label for=\"sk-estimator-id-1\" class=\"sk-toggleable__label sk-toggleable__label-arrow\">RandomForestClassifier</label><div class=\"sk-toggleable__content\"><pre>RandomForestClassifier(n_jobs=-1)</pre></div></div></div></div></div>"
      ],
      "text/plain": [
       "RandomForestClassifier(n_jobs=-1)"
      ]
     },
     "execution_count": 4,
     "metadata": {},
     "output_type": "execute_result"
    }
   ],
   "source": [
    "### Definição e treino do modelo\n",
    "rfc = RandomForestClassifier( n_jobs = -1 )\n",
    "rfc.fit( xtrn, ytr )"
   ]
  },
  {
   "cell_type": "markdown",
   "metadata": {},
   "source": [
    "#### XGBoost"
   ]
  },
  {
   "cell_type": "code",
   "execution_count": 38,
   "metadata": {},
   "outputs": [
    {
     "data": {
      "text/plain": [
       "0.9661339421613394"
      ]
     },
     "execution_count": 38,
     "metadata": {},
     "output_type": "execute_result"
    }
   ],
   "source": [
    "xgbc = XGBClassifier( n_jobs = -1 )\n",
    "xgbc.fit( xtrn, ytr )\n",
    "\n",
    "### Recall Score do modelo\n",
    "y_predict = xgbc.predict( xten )\n",
    "recall_score( yte, y_predict, average = 'binary', pos_label = 1 )"
   ]
  },
  {
   "cell_type": "markdown",
   "metadata": {},
   "source": [
    "#### Ridge Classifier"
   ]
  },
  {
   "cell_type": "code",
   "execution_count": 12,
   "metadata": {},
   "outputs": [],
   "source": [
    "rdgc = RidgeClassifierCV()\n",
    "rdgc.fit( xtrn, ytr )"
   ]
  },
  {
   "cell_type": "markdown",
   "metadata": {},
   "source": [
    "#### Logistic Reg Classifier"
   ]
  },
  {
   "cell_type": "code",
   "execution_count": null,
   "metadata": {},
   "outputs": [],
   "source": [
    "lrgc = LogisticRegressionCV()\n",
    "lrgc.fit( xtrn, ytr )"
   ]
  },
  {
   "cell_type": "markdown",
   "metadata": {},
   "source": [
    "#### Save dos modelos"
   ]
  },
  {
   "cell_type": "code",
   "execution_count": 11,
   "metadata": {},
   "outputs": [],
   "source": [
    "pkl.dump( rfc, open( '../data/models/rando_forest.sav', 'wb' ) )\n",
    "pkl.dump( xgbc, open( '../data/models/xgboost.sav', 'wb' ) )\n",
    "pkl.dump( rfc, open( '../data/models/ridge_classif.sav', 'wb' ) )\n",
    "pkl.dump( lrgc, open( '../data/models/logistic_reg.sav', 'wb' ) )\n"
   ]
  },
  {
   "cell_type": "markdown",
   "metadata": {},
   "source": [
    "#### Resultados"
   ]
  },
  {
   "cell_type": "code",
   "execution_count": 27,
   "metadata": {},
   "outputs": [
    {
     "data": {
      "image/png": "[encoded data removed]",
      "text/plain": [
       "<Figure size 1440x576 with 8 Axes>"
      ]
     },
     "metadata": {},
     "output_type": "display_data"
    }
   ],
   "source": [
    "result = cv_result(rfc, xgbc, rdgc, lrgc, xten, yte)"
   ]
  },
  {
   "cell_type": "code",
   "execution_count": null,
   "metadata": {},
   "outputs": [],
   "source": [
    "result = cv_result(rfc, xgbc, rdgc, lrgc, xten, yte)\n",
    "pkl.dump( result, open( '../data/pickle/result_models.sav', 'wb' ) )\n"
   ]
  },
  {
   "cell_type": "markdown",
   "metadata": {},
   "source": [
    "    Frente a demora no treino e os resultados ruins, serão descartados Ridge Classifier e Logistic Regression\n",
    "    Pela maior pontuação e análise da matriz de confusão, será utilizado o XGBoost"
   ]
  },
  {
   "cell_type": "markdown",
   "metadata": {},
   "source": [
    "# 5- Fine Tuning"
   ]
  },
  {
   "cell_type": "code",
   "execution_count": 4,
   "metadata": {},
   "outputs": [],
   "source": [
    "### Escolha dos parâmetros a serem testados\n",
    "param = {\n",
    "    'n_estimators'      : [1000, 2000],\n",
    "    'max_depth'        : [1, 6, 50],\n",
    "    'learning_rate'    : [0.001, 0.6, 1],\n",
    "    'min_child_weight' : [1, 6, 20],\n",
    "    'subsample'        : [0.1, 0.6, 1],\n",
    "    'colsample_bytree' : [0.1, 0.6, 1]\n",
    "\n",
    "}\n",
    "\n",
    "### Modelo\n",
    "xgb = XGBClassifier()\n",
    "\n",
    "### GridSearch\n",
    "gs_xgb = GridSearchCV(\n",
    "    estimator  = xgb,\n",
    "    param_grid = param,\n",
    "    cv         = StratifiedKFold( n_splits = 2), \n",
    "    scoring    = 'f1_weighted',\n",
    "    verbose    = 1\n",
    "\n",
    ")"
   ]
  },
  {
   "cell_type": "code",
   "execution_count": 14,
   "metadata": {},
   "outputs": [],
   "source": [
    "### Separando uma pequena amostra estratificada para não usar o GridSearch em uma amostra grande \n",
    "xfit, nan, y_fit, nan = train_test_split( xtrn, ytr, train_size = 0.01, stratify = ytr  )\n",
    "\n",
    "### Setando parâmetros e treinando modelo\n",
    "gs_xgb = fine_T()\n",
    "gs_xgb.fit( xfit, y_fit );"
   ]
  },
  {
   "cell_type": "code",
   "execution_count": 10,
   "metadata": {},
   "outputs": [],
   "source": [
    "### Salvando melhores parâmetros \n",
    "best_params = gs_xgb.best_params_\n",
    "\n",
    "#Fazendo bkp do modelo treinado e dos melhores parâmetros\n",
    "pkl.dump( best_params, open( '../data/models/best_params.sav', 'wb' ) )\n",
    "pkl.dump( gs_xgb, open( '../data/models/xgb_fineT.sav', 'wb' ) )\n"
   ]
  },
  {
   "cell_type": "markdown",
   "metadata": {},
   "source": [
    "# CheckPoint"
   ]
  },
  {
   "cell_type": "code",
   "execution_count": 7,
   "metadata": {},
   "outputs": [],
   "source": [
    "### Carga dos dados\n",
    "xtr = pkl.load( open( '../data/pickle/xtr.sav', 'rb' ) )\n",
    "xte = pkl.load( open( '../data/pickle/xte.sav', 'rb' ) )\n",
    "\n",
    "ytr = pkl.load( open( '../data/pickle/ytr.sav', 'rb' ) )\n",
    "yte = pkl.load( open( '../data/pickle/yte.sav', 'rb' ) )\n",
    "\n",
    "### Normalização\n",
    "xtrn, rs, mms = nt.rescaling( xtr )\n",
    "xten, rs, mms = nt.rescaling( xte )\n",
    "\n",
    "### Melhores Parâmetros\n",
    "best_params = pkl.load( open( '../data/models/best_params.sav', 'rb' ) )\n",
    "params      = pkl.load( open( '../data/models/params.sav', 'rb' ) )\n",
    "\n",
    "x_val = pkl.load( open( '../data/pickle/xval.sav', 'rb' ) )\n",
    "y_val = pkl.load( open( '../data/pickle/yval.sav', 'rb' ) )"
   ]
  },
  {
   "cell_type": "markdown",
   "metadata": {},
   "source": [
    "# 6- Feature Selection"
   ]
  },
  {
   "cell_type": "markdown",
   "metadata": {},
   "source": [
    "    Com base na análise gráfica da importância das features, serão selecionadas as 6 primeiras features para treinar o modelo"
   ]
  },
  {
   "cell_type": "code",
   "execution_count": 14,
   "metadata": {},
   "outputs": [
    {
     "data": {
      "image/png": "[encoded data removed]",
      "text/plain": [
       "<Figure size 2160x720 with 1 Axes>"
      ]
     },
     "metadata": {},
     "output_type": "display_data"
    }
   ],
   "source": [
    "### Chamando função para criar DF com o nome e a importância das features\n",
    "df_importance = mlp.feature_importance( xtrn, ytr )\n",
    "\n",
    "### Plotagem do gráfico com informações referentes a importância das features\n",
    "sns.set( rc={'figure.figsize' : (30,10)} )\n",
    "sns.barplot(\n",
    "    data    = df_importance, \n",
    "    x       = 'Importance', \n",
    "    y       = 'Feature',\n",
    "    palette = 'tab20b'\n",
    ");"
   ]
  },
  {
   "cell_type": "code",
   "execution_count": 15,
   "metadata": {},
   "outputs": [],
   "source": [
    "### Criando variável a ser usada para selecionar as colunas que alimentarão o modelo\n",
    "cols_selected = list( df_importance['Feature'].head(8) )\n",
    "pkl.dump( cols_selected, open( '../data/pickle/cols_selected.sav', 'wb' ) )"
   ]
  },
  {
   "cell_type": "markdown",
   "metadata": {},
   "source": [
    "# 7- Implementação e testes do modelo"
   ]
  },
  {
   "cell_type": "markdown",
   "metadata": {},
   "source": [
    "## 7.1 Testes de Tuning e Feature Selection"
   ]
  },
  {
   "cell_type": "markdown",
   "metadata": {},
   "source": [
    "### Sem upgrades e sem normalização"
   ]
  },
  {
   "cell_type": "code",
   "execution_count": 109,
   "metadata": {},
   "outputs": [
    {
     "name": "stdout",
     "output_type": "stream",
     "text": [
      "Média Score F1 Macro: 0.9453041875478384\n"
     ]
    },
    {
     "data": {
      "image/png": "[encoded data removed]",
      "text/plain": [
       "<Figure size 720x360 with 2 Axes>"
      ]
     },
     "metadata": {},
     "output_type": "display_data"
    }
   ],
   "source": [
    "model = XGBClassifier().fit(xtr.drop( columns = ['type', 'nameOrig', 'nameDest'] ), ytr)\n",
    "scores, cf_matrix = teste_modelo( xte.drop( columns = ['type', 'nameOrig', 'nameDest'] ), yte, model )\n",
    "\n",
    "print( f'Média Score F1 Macro: {scores.mean()}' )\n",
    "\n",
    "sns.heatmap(\n",
    "    cf_matrix, annot = True, fmt = '.1f' \n",
    ");"
   ]
  },
  {
   "cell_type": "markdown",
   "metadata": {},
   "source": [
    "### Sem upgrades (Best Score)"
   ]
  },
  {
   "cell_type": "code",
   "execution_count": 27,
   "metadata": {},
   "outputs": [
    {
     "name": "stdout",
     "output_type": "stream",
     "text": [
      "Média Score F1 Macro: 0.9980874014236256\n"
     ]
    },
    {
     "data": {
      "image/png": "[encoded data removed]",
      "text/plain": [
       "<Figure size 576x360 with 2 Axes>"
      ]
     },
     "metadata": {},
     "output_type": "display_data"
    }
   ],
   "source": [
    "model = XGBClassifier().fit(xtrn, ytr)\n",
    "scores, cf_matrix = teste_modelo( xten, yte, model )\n",
    "\n",
    "print( f'Média Score F1 Macro: {scores.mean()}' )\n",
    "\n",
    "sns.set( rc = {'figure.figsize' : ( 8,5 )} )\n",
    "sns.heatmap(\n",
    "    cf_matrix, annot = True, fmt = '.1f' \n",
    ");"
   ]
  },
  {
   "cell_type": "markdown",
   "metadata": {},
   "source": [
    "### Sem upgrades e com undersampling"
   ]
  },
  {
   "cell_type": "code",
   "execution_count": 104,
   "metadata": {},
   "outputs": [],
   "source": [
    "x_under = xtrn.reset_index( drop = True )\n",
    "y_under = ytr.reset_index( drop = True )\n",
    "\n",
    "x_tr_tot = pd.concat( [x_under, y_under], axis = 1 )"
   ]
  },
  {
   "cell_type": "code",
   "execution_count": 105,
   "metadata": {},
   "outputs": [],
   "source": [
    "aux      = x_tr_tot[x_tr_tot.isFraud == 0].head(30000)\n",
    "aux1     = x_tr_tot[x_tr_tot.isFraud == 1]\n",
    "aux1.drop(columns = ['isFraud'], axis = 1, inplace = True )\n",
    "x_tr_tot = pd.concat( [aux, aux1], axis = 0 )\n",
    "x_tr_tot = x_tr_tot.fillna(1)\n",
    "\n",
    "x_under = x_tr_tot.drop(  columns = ['isFraud'])\n",
    "y_under = x_tr_tot.isFraud"
   ]
  },
  {
   "cell_type": "code",
   "execution_count": 106,
   "metadata": {},
   "outputs": [
    {
     "name": "stdout",
     "output_type": "stream",
     "text": [
      "Média Score F1 Macro: 0.9512562425033162\n"
     ]
    },
    {
     "data": {
      "image/png": "[encoded data removed]",
      "text/plain": [
       "<Figure size 432x288 with 2 Axes>"
      ]
     },
     "metadata": {
      "needs_background": "light"
     },
     "output_type": "display_data"
    }
   ],
   "source": [
    "model = XGBClassifier().fit(x_under, y_under)\n",
    "scores, cf_matrix = teste_modelo( xten, yte, model )\n",
    "\n",
    "print( f'Média Score F1 Macro: {scores.mean()}' )\n",
    "\n",
    "sns.heatmap(\n",
    "    cf_matrix, annot = True, fmt = '.1f' \n",
    ");"
   ]
  },
  {
   "cell_type": "markdown",
   "metadata": {},
   "source": [
    "### Sem upgrades e feature Selection"
   ]
  },
  {
   "cell_type": "code",
   "execution_count": 106,
   "metadata": {},
   "outputs": [
    {
     "name": "stdout",
     "output_type": "stream",
     "text": [
      "Média Score F1 Macro: 0.9469486163165252\n"
     ]
    },
    {
     "data": {
      "image/png": "[encoded data removed]",
      "text/plain": [
       "<Figure size 720x360 with 2 Axes>"
      ]
     },
     "metadata": {},
     "output_type": "display_data"
    }
   ],
   "source": [
    "model = XGBClassifier().fit(xtrn[cols_selected], ytr)\n",
    "scores, cf_matrix = teste_modelo( xten[cols_selected], yte, model )\n",
    "\n",
    "print( f'Média Score F1 Macro: {scores.mean()}' )\n",
    "\n",
    "sns.heatmap(\n",
    "    cf_matrix, annot = True, fmt = '.1f' \n",
    ");"
   ]
  },
  {
   "cell_type": "markdown",
   "metadata": {},
   "source": [
    "### Com Fine Tuning"
   ]
  },
  {
   "cell_type": "code",
   "execution_count": null,
   "metadata": {},
   "outputs": [],
   "source": [
    "model = XGBClassifier(\n",
    "    colsample_bytree = 0.6,\n",
    "    learning_rate    = 0.001,\n",
    "    max_depth        = 6,\n",
    "    min_child_weight = 1,\n",
    "    n_estimators     = 2000,\n",
    "    subsample        = 1\n",
    ").fit(xtrn, ytr)\n"
   ]
  },
  {
   "cell_type": "code",
   "execution_count": 43,
   "metadata": {},
   "outputs": [
    {
     "name": "stdout",
     "output_type": "stream",
     "text": [
      "Média Score F1 Macro: 0.9174051072409066\n",
      "Recall score: 0.478310502283105\n"
     ]
    },
    {
     "data": {
      "image/png": "[encoded data removed]",
      "text/plain": [
       "<Figure size 432x288 with 2 Axes>"
      ]
     },
     "metadata": {
      "needs_background": "light"
     },
     "output_type": "display_data"
    }
   ],
   "source": [
    "### Calculando score usando Cross validation e criando matrix de confusão\n",
    "scores, cf_matrix = teste_modelo( xten, yte, model )\n",
    "print( f'Média Score F1 Macro: {scores.mean()}' )\n",
    "\n",
    "### Calculando Recall score\n",
    "y_pred = model.predict( xten )\n",
    "rc_s   = recall_score(yte, y_pred, average='binary' , pos_label = 1) \n",
    "print( f'Recall score: {rc_s}' )\n",
    "\n",
    "### Plotando Matrix de confusão\n",
    "sns.heatmap(\n",
    "    cf_matrix, annot = True, fmt = '.1f' \n",
    ");"
   ]
  },
  {
   "cell_type": "markdown",
   "metadata": {},
   "source": [
    "### Alterando Fine Tuning"
   ]
  },
  {
   "cell_type": "code",
   "execution_count": 87,
   "metadata": {},
   "outputs": [
    {
     "name": "stdout",
     "output_type": "stream",
     "text": [
      "Média Score F1 Macro: 0.9180225867809849\n"
     ]
    },
    {
     "data": {
      "image/png": "[encoded data removed]",
      "text/plain": [
       "<Figure size 720x360 with 2 Axes>"
      ]
     },
     "metadata": {},
     "output_type": "display_data"
    }
   ],
   "source": [
    "model = XGBClassifier(\n",
    "    colsample_bytree = 1,\n",
    "    learning_rate    = 0.001,\n",
    "    max_depth        = 6,\n",
    "    min_child_weight = 1,\n",
    "    n_estimators     = 2000,\n",
    "    subsample        = 0.6\n",
    ").fit(xtrn, ytr)\n",
    "scores, cf_matrix = teste_modelo( xten, yte, model )\n",
    "\n",
    "print( f'Média Score F1 Macro: {scores.mean()}' )\n",
    "\n",
    "sns.heatmap(\n",
    "    cf_matrix, annot = True, fmt = '.1f' \n",
    ");"
   ]
  },
  {
   "cell_type": "markdown",
   "metadata": {},
   "source": [
    "### Com Fine Tuning e Feature Selection"
   ]
  },
  {
   "cell_type": "code",
   "execution_count": 86,
   "metadata": {},
   "outputs": [
    {
     "name": "stdout",
     "output_type": "stream",
     "text": [
      "Média Score F1 Macro: 0.8847641085161143\n"
     ]
    },
    {
     "data": {
      "image/png": "[encoded data removed]",
      "text/plain": [
       "<Figure size 720x360 with 2 Axes>"
      ]
     },
     "metadata": {},
     "output_type": "display_data"
    }
   ],
   "source": [
    "model = XGBClassifier(\n",
    "    colsample_bytree = 0.6,\n",
    "    learning_rate    = 0.001,\n",
    "    max_depth        = 6,\n",
    "    min_child_weight = 1,\n",
    "    n_estimators     = 2000,\n",
    "    subsample        = 1\n",
    ").fit(xtrn[cols_selected], ytr)\n",
    "\n",
    "scores, cf_matrix = teste_modelo( xten[cols_selected], yte, model )\n",
    "\n",
    "print( f'Média Score F1 Macro: {scores.mean()}' )\n",
    "\n",
    "sns.heatmap(\n",
    "    cf_matrix, annot = True, fmt = '.1f' \n",
    ");"
   ]
  },
  {
   "cell_type": "markdown",
   "metadata": {},
   "source": [
    "### Adicionando probabilidades geradas pelo Ridge Classifier"
   ]
  },
  {
   "cell_type": "code",
   "execution_count": 27,
   "metadata": {},
   "outputs": [],
   "source": [
    "rdgc = RidgeClassifierCV()\n",
    "rdgc.fit( xtrn, ytr )\n",
    "\n",
    "rgcte_proba = rdgc._predict_proba_lr( xtrn )\n",
    "xtr_proba = xtrn.copy()\n",
    "xtr_proba['proba'] = rgcte_proba[:,1]\n",
    "model = XGBClassifier().fit(xtrn, ytr)\n",
    "y_predict = model.predict( xten )\n",
    "\n",
    "model = RidgeClassifierCV().fit(xten, y_predict)\n",
    "rgcte_proba = model._predict_proba_lr( xten )\n",
    "xte_proba = xten.copy()\n",
    "xte_proba['proba'] = rgcte_proba[:,1]\n",
    "model = XGBClassifier().fit(xtr_proba, ytr)\n"
   ]
  },
  {
   "cell_type": "code",
   "execution_count": 36,
   "metadata": {},
   "outputs": [
    {
     "name": "stdout",
     "output_type": "stream",
     "text": [
      "Média Score F1 Macro: 0.9465068882181983\n"
     ]
    },
    {
     "data": {
      "image/png": "[encoded data removed]",
      "text/plain": [
       "<Figure size 432x288 with 2 Axes>"
      ]
     },
     "metadata": {
      "needs_background": "light"
     },
     "output_type": "display_data"
    }
   ],
   "source": [
    "scores, cf_matrix = teste_modelo( xte_proba, yte, model )\n",
    "\n",
    "print( f'Média Score F1 Macro: {scores.mean()}' )\n",
    "\n",
    "sns.heatmap(\n",
    "    cf_matrix, annot = True, fmt = '.1f' \n",
    ");"
   ]
  },
  {
   "cell_type": "markdown",
   "metadata": {},
   "source": [
    "## 7.2- Deploy"
   ]
  },
  {
   "cell_type": "code",
   "execution_count": 17,
   "metadata": {},
   "outputs": [],
   "source": [
    "### Concatenando valores de treino e teste\n",
    "x_trn = pd.concat( [xtrn, xten] )\n",
    "y_tr = pd.concat( [ytr, yte] )\n"
   ]
  },
  {
   "cell_type": "code",
   "execution_count": 18,
   "metadata": {},
   "outputs": [],
   "source": [
    "### Treinando modelo com dados globais\n",
    "model = XGBClassifier().fit( x_trn.drop( columns = 'isFlaggedFraud' ), y_tr )"
   ]
  },
  {
   "cell_type": "code",
   "execution_count": 27,
   "metadata": {},
   "outputs": [],
   "source": [
    "### Normalização dos dados de validação\n",
    "x_valn, rs, mms = nt.rescaling( xval, rs, mms )\n",
    "x_valn.drop( columns = 'isFlaggedFraud', inplace = True )\n"
   ]
  },
  {
   "cell_type": "code",
   "execution_count": 35,
   "metadata": {},
   "outputs": [
    {
     "name": "stdout",
     "output_type": "stream",
     "text": [
      "0.9954337899543378\n"
     ]
    },
    {
     "data": {
      "image/png": "[encoded data removed]",
      "text/plain": [
       "<Figure size 576x360 with 2 Axes>"
      ]
     },
     "metadata": {},
     "output_type": "display_data"
    }
   ],
   "source": [
    "### Fazendo previsões com o modelo já treinado em quase toda base de dados\n",
    "y_pred = model.predict( x_valn )\n",
    "### Medindo a acurácia com ênfase na resposta de interesse (IsFraud == 1)\n",
    "print( recall_score( yval, y_pred, average='binary' , pos_label = 1 ) )\n",
    "\n",
    "### Plotando matriz de confusão \n",
    "cf_matrix = confusion_matrix(yval, y_pred)\n",
    "sns.set( rc = {'figure.figsize' : (8,5)} )\n",
    "sns.heatmap(\n",
    "    cf_matrix, \n",
    "    annot = True,\n",
    "    fmt = '.1f'\n",
    ");\n"
   ]
  },
  {
   "cell_type": "code",
   "execution_count": 33,
   "metadata": {},
   "outputs": [],
   "source": [
    "### Salvando o modelo\n",
    "pkl.dump( model, open( '../data/models/xgb_final.sav', 'wb' ) )\n",
    "pkl.dump( y_pred, open( '../data/pickle/y_pred.sav', 'wb' ) )"
   ]
  },
  {
   "cell_type": "markdown",
   "metadata": {},
   "source": [
    "# CheckPoint"
   ]
  },
  {
   "cell_type": "code",
   "execution_count": 16,
   "metadata": {},
   "outputs": [],
   "source": [
    "model  = pkl.load( open( '../data/models/xgb_final.sav', 'rb' ) )\n",
    "x_val  = pkl.load( open( '../data/pickle/xval.sav', 'rb' ) )\n",
    "y_val  = pkl.load( open( '../data/pickle/yval.sav', 'rb' ) )"
   ]
  },
  {
   "cell_type": "markdown",
   "metadata": {},
   "source": [
    "# 8- Métricas de negócio"
   ]
  },
  {
   "cell_type": "markdown",
   "metadata": {},
   "source": [
    "    Partindo do pressuposto que o método de análise atual dá como resultado a variável 'isFlaggedFraud', todos as métricas de negócio tomarão como base ela."
   ]
  },
  {
   "cell_type": "code",
   "execution_count": 5,
   "metadata": {},
   "outputs": [],
   "source": [
    "expeted_r = pd.DataFrame()\n",
    "\n",
    "expeted_r['base']    = x_val.isFlaggedFraud.reset_index( drop = True )\n",
    "expeted_r['y_pred']      = y_pred\n",
    "expeted_r['y_real']      = y_val.reset_index( drop = True )\n",
    "expeted_r['valor']       = x_val.amount.reset_index( drop = True )\n",
    "expeted_r['er_modelo'] = expeted_r.apply( lambda x : x['valor'] if ( x['y_real'] == 1 ) & ( x['y_pred'] == 0 ) else 0, axis = 1 )\n",
    "expeted_r['er_base'] = expeted_r.apply( lambda x : x['valor'] if ( x['y_real'] == 1 ) & ( x['base'] == 0 ) else 0, axis = 1 )"
   ]
  },
  {
   "cell_type": "markdown",
   "metadata": {},
   "source": [
    "Adicionar erros:\n",
    "- Falso positivo---=---=---=---=---=---=-[x]\n",
    "- Falso negativo---=---=---=---=---=---=-[ ]\n",
    "- ?Estipular valor para falsos negativos [ ]"
   ]
  }
 ],
 "metadata": {
  "kernelspec": {
   "display_name": "Python 3.10.6 64-bit",
   "language": "python",
   "name": "python3"
  },
  "language_info": {
   "codemirror_mode": {
    "name": "ipython",
    "version": 3
   },
   "file_extension": ".py",
   "mimetype": "text/x-python",
   "name": "python",
   "nbconvert_exporter": "python",
   "pygments_lexer": "ipython3",
   "version": "3.10.6"
  },
  "orig_nbformat": 4,
  "vscode": {
   "interpreter": {
    "hash": "31f2aee4e71d21fbe5cf8b01ff0e069b9275f58929596ceb00d14d90e3e16cd6"
   }
  }
 },
 "nbformat": 4,
 "nbformat_minor": 2
}
